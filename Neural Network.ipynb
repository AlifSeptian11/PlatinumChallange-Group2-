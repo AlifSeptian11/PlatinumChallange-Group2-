{
 "cells": [
  {
   "cell_type": "code",
   "execution_count": 1,
   "id": "2a285e2f-4091-43d0-ac11-efc7ea967de7",
   "metadata": {},
   "outputs": [],
   "source": [
    "import pandas as pd\n",
    "import re\n",
    "import pickle\n",
    "import numpy as np\n",
    "from sklearn.feature_extraction.text import TfidfVectorizer\n",
    "from sklearn.model_selection import train_test_split, KFold\n",
    "from sklearn.neural_network import MLPClassifier\n",
    "from sklearn.metrics import classification_report, accuracy_score, recall_score, precision_score, f1_score\n",
    "from statistics import mean, stdev\n",
    "from Sastrawi.Stemmer.StemmerFactory import StemmerFactory\n",
    "from Sastrawi.StopWordRemover.StopWordRemoverFactory import StopWordRemoverFactory\n",
    "from sklearn.linear_model import LogisticRegression\n",
    "from sklearn.svm import SVC\n",
    "from sklearn.neighbors import KNeighborsClassifier\n",
    "from sklearn.naive_bayes import MultinomialNB\n",
    "from sklearn.neural_network import MLPClassifier\n",
    "from sklearn.tree import DecisionTreeClassifier\n",
    "from sklearn.ensemble import RandomForestClassifier\n",
    "from sklearn.ensemble import GradientBoostingClassifier\n",
    "from sklearn.ensemble import AdaBoostClassifier\n",
    "from sklearn import model_selection"
   ]
  },
  {
   "cell_type": "markdown",
   "id": "5af37542-3ca2-421f-8892-f7da730adc21",
   "metadata": {},
   "source": [
    "# Prepare Dataset"
   ]
  },
  {
   "cell_type": "code",
   "execution_count": 2,
   "id": "82c684f3-6e38-42cd-a857-0d376d289446",
   "metadata": {},
   "outputs": [
    {
     "data": {
      "text/html": [
       "<div>\n",
       "<style scoped>\n",
       "    .dataframe tbody tr th:only-of-type {\n",
       "        vertical-align: middle;\n",
       "    }\n",
       "\n",
       "    .dataframe tbody tr th {\n",
       "        vertical-align: top;\n",
       "    }\n",
       "\n",
       "    .dataframe thead th {\n",
       "        text-align: right;\n",
       "    }\n",
       "</style>\n",
       "<table border=\"1\" class=\"dataframe\">\n",
       "  <thead>\n",
       "    <tr style=\"text-align: right;\">\n",
       "      <th></th>\n",
       "      <th>Tweet</th>\n",
       "      <th>Label</th>\n",
       "    </tr>\n",
       "  </thead>\n",
       "  <tbody>\n",
       "    <tr>\n",
       "      <th>0</th>\n",
       "      <td>warung ini dimiliki oleh pengusaha pabrik tahu...</td>\n",
       "      <td>positive</td>\n",
       "    </tr>\n",
       "    <tr>\n",
       "      <th>1</th>\n",
       "      <td>mohon ulama lurus dan k212 mmbri hujjah partai...</td>\n",
       "      <td>neutral</td>\n",
       "    </tr>\n",
       "    <tr>\n",
       "      <th>2</th>\n",
       "      <td>lokasi strategis di jalan sumatera bandung . t...</td>\n",
       "      <td>positive</td>\n",
       "    </tr>\n",
       "    <tr>\n",
       "      <th>3</th>\n",
       "      <td>betapa bahagia nya diri ini saat unboxing pake...</td>\n",
       "      <td>positive</td>\n",
       "    </tr>\n",
       "    <tr>\n",
       "      <th>4</th>\n",
       "      <td>duh . jadi mahasiswa jangan sombong dong . kas...</td>\n",
       "      <td>negative</td>\n",
       "    </tr>\n",
       "  </tbody>\n",
       "</table>\n",
       "</div>"
      ],
      "text/plain": [
       "                                               Tweet     Label\n",
       "0  warung ini dimiliki oleh pengusaha pabrik tahu...  positive\n",
       "1  mohon ulama lurus dan k212 mmbri hujjah partai...   neutral\n",
       "2  lokasi strategis di jalan sumatera bandung . t...  positive\n",
       "3  betapa bahagia nya diri ini saat unboxing pake...  positive\n",
       "4  duh . jadi mahasiswa jangan sombong dong . kas...  negative"
      ]
     },
     "execution_count": 2,
     "metadata": {},
     "output_type": "execute_result"
    }
   ],
   "source": [
    "# import dataset\n",
    "df = pd.read_csv('DATA/train_preprocess.tsv.txt', sep='\\t', names=['Tweet','Label'])\n",
    "df.head()"
   ]
  },
  {
   "cell_type": "code",
   "execution_count": 3,
   "id": "04c30d20-1f11-4ea5-8336-80ff6ad3abf2",
   "metadata": {},
   "outputs": [
    {
     "data": {
      "text/plain": [
       "Label\n",
       "positive    6416\n",
       "negative    3436\n",
       "neutral     1148\n",
       "Name: count, dtype: int64"
      ]
     },
     "execution_count": 3,
     "metadata": {},
     "output_type": "execute_result"
    }
   ],
   "source": [
    "df.Label.value_counts()"
   ]
  },
  {
   "cell_type": "code",
   "execution_count": 4,
   "id": "56990b8b-bd3f-4f91-a304-be86f2aaa6a6",
   "metadata": {},
   "outputs": [
    {
     "name": "stdout",
     "output_type": "stream",
     "text": [
      "\n",
      "Data setelah menghapus duplikat:\n",
      "                                                   Tweet     Label\n",
      "0      warung ini dimiliki oleh pengusaha pabrik tahu...  positive\n",
      "1      mohon ulama lurus dan k212 mmbri hujjah partai...   neutral\n",
      "2      lokasi strategis di jalan sumatera bandung . t...  positive\n",
      "3      betapa bahagia nya diri ini saat unboxing pake...  positive\n",
      "4      duh . jadi mahasiswa jangan sombong dong . kas...  negative\n",
      "...                                                  ...       ...\n",
      "10993  f - demokrat dorong upaya kemandirian energi n...   neutral\n",
      "10994                                        tidak bosan  positive\n",
      "10996  enak rasa masakan nya apalagi kepiting yang me...  positive\n",
      "10998  pagi pagi di tol pasteur sudah macet parah , b...  negative\n",
      "10999  meskipun sering belanja ke yogya di riau junct...  positive\n",
      "\n",
      "[10933 rows x 2 columns]\n"
     ]
    }
   ],
   "source": [
    "# Menghapus duplikat pada kolom \"tweet\"\n",
    "df = df.drop_duplicates(subset='Tweet')\n",
    "\n",
    "# Memeriksa data setelah menghapus duplikat\n",
    "print(\"\\nData setelah menghapus duplikat:\")\n",
    "print(df)"
   ]
  },
  {
   "cell_type": "markdown",
   "id": "eb156661-f98e-40bf-b18a-1a28f89c240e",
   "metadata": {},
   "source": [
    "# Text Normalization"
   ]
  },
  {
   "cell_type": "code",
   "execution_count": 5,
   "id": "e4a40b2c-6925-44f8-8d11-715ceaba4f8c",
   "metadata": {},
   "outputs": [],
   "source": [
    "def cleansing(sent):\n",
    "    # Mengubah kata menjadi huruf kecil semua dengan menggunakan fungsi lower()\n",
    "    string = sent.lower()\n",
    "\n",
    "    # Menghapus emoticon dan tanda baca menggunakan \"RegEx\" dengan script di bawah\n",
    "    string = re.sub(r'(?:\\@|http?\\://|https?\\://|www)\\S+', '', string) #menghapus https dan http\n",
    "    string = re.sub('<.*?>', ' ', string) #mengganti karakter html dengan tanda petik\n",
    "    string = re.sub('[^0-9a-zA-Z]+', ' ', string) #menghilangkan semua karakter yang bukan huruf atau angka dan menggantinya dengan spasi.\n",
    "    string = re.sub('\\n',' ',string) #mengganti line baru dengan spasi\n",
    "    string = re.sub(r':', ' ', string) #menggantikan karakter : dengan spasi \n",
    "    string = re.sub('gue','saya', string) # Mengganti kata \"gue\" dengan kata \"saya\"\n",
    "    string = re.sub(r'\\b[a-zA-Z]\\b', ' ', string) #menghapus single char\n",
    "    string = ' '.join(string.split()) #memisahkan dan menggabungkan kata\n",
    "    string = string.strip() #menghilangkan whitespace di awal dan di akhir teks\n",
    "    string = re.sub(r'pic.twitter.com.[\\w]+', '', string) #menghapus link picture\n",
    "    string = re.sub(r'\\buser\\b',' ', string) #menghapus kata 'user'\n",
    "    string = re.sub(r'\\brt\\b',' ', string) #menghapus awalan rt\n",
    "    string = re.sub('RT',' ', string) #menghapus RT simbol\n",
    "    string = re.sub(r'‚Ä¶', '', string) #menghapus simbol tidak perlu\n",
    "\n",
    "    # Lematisasi menggunakan Sastrawi\n",
    "    stemmer_factory = StemmerFactory()\n",
    "    stemmer = stemmer_factory.create_stemmer()\n",
    "    string = stemmer.stem(string)\n",
    "\n",
    "    # Menghapus stop words menggunakan Sastrawi\n",
    "    stopword_factory = StopWordRemoverFactory()\n",
    "    stopword_remover = stopword_factory.create_stop_word_remover()\n",
    "    string = stopword_remover.remove(string)\n",
    "    \n",
    "    return string"
   ]
  },
  {
   "cell_type": "code",
   "execution_count": 6,
   "id": "abf3d9a0-9288-4756-ace0-f8397d5b2578",
   "metadata": {},
   "outputs": [
    {
     "data": {
      "text/html": [
       "<div>\n",
       "<style scoped>\n",
       "    .dataframe tbody tr th:only-of-type {\n",
       "        vertical-align: middle;\n",
       "    }\n",
       "\n",
       "    .dataframe tbody tr th {\n",
       "        vertical-align: top;\n",
       "    }\n",
       "\n",
       "    .dataframe thead th {\n",
       "        text-align: right;\n",
       "    }\n",
       "</style>\n",
       "<table border=\"1\" class=\"dataframe\">\n",
       "  <thead>\n",
       "    <tr style=\"text-align: right;\">\n",
       "      <th></th>\n",
       "      <th>Tweet</th>\n",
       "      <th>Label</th>\n",
       "      <th>Tweet_Clean</th>\n",
       "    </tr>\n",
       "  </thead>\n",
       "  <tbody>\n",
       "    <tr>\n",
       "      <th>0</th>\n",
       "      <td>warung ini dimiliki oleh pengusaha pabrik tahu...</td>\n",
       "      <td>positive</td>\n",
       "      <td>warung milik usaha pabrik puluh tahun kenal pu...</td>\n",
       "    </tr>\n",
       "    <tr>\n",
       "      <th>1</th>\n",
       "      <td>mohon ulama lurus dan k212 mmbri hujjah partai...</td>\n",
       "      <td>neutral</td>\n",
       "      <td>ulama lurus k212 mmbri hujjah partai diwlh sua...</td>\n",
       "    </tr>\n",
       "    <tr>\n",
       "      <th>2</th>\n",
       "      <td>lokasi strategis di jalan sumatera bandung . t...</td>\n",
       "      <td>positive</td>\n",
       "      <td>lokasi strategis jalan sumatera bandung nyaman...</td>\n",
       "    </tr>\n",
       "    <tr>\n",
       "      <th>3</th>\n",
       "      <td>betapa bahagia nya diri ini saat unboxing pake...</td>\n",
       "      <td>positive</td>\n",
       "      <td>betapa bahagia unboxing paket barang bagus beli</td>\n",
       "    </tr>\n",
       "    <tr>\n",
       "      <th>4</th>\n",
       "      <td>duh . jadi mahasiswa jangan sombong dong . kas...</td>\n",
       "      <td>negative</td>\n",
       "      <td>duh mahasiswa sombong kasih kartu kuning ajar ...</td>\n",
       "    </tr>\n",
       "  </tbody>\n",
       "</table>\n",
       "</div>"
      ],
      "text/plain": [
       "                                               Tweet     Label  \\\n",
       "0  warung ini dimiliki oleh pengusaha pabrik tahu...  positive   \n",
       "1  mohon ulama lurus dan k212 mmbri hujjah partai...   neutral   \n",
       "2  lokasi strategis di jalan sumatera bandung . t...  positive   \n",
       "3  betapa bahagia nya diri ini saat unboxing pake...  positive   \n",
       "4  duh . jadi mahasiswa jangan sombong dong . kas...  negative   \n",
       "\n",
       "                                         Tweet_Clean  \n",
       "0  warung milik usaha pabrik puluh tahun kenal pu...  \n",
       "1  ulama lurus k212 mmbri hujjah partai diwlh sua...  \n",
       "2  lokasi strategis jalan sumatera bandung nyaman...  \n",
       "3    betapa bahagia unboxing paket barang bagus beli  \n",
       "4  duh mahasiswa sombong kasih kartu kuning ajar ...  "
      ]
     },
     "execution_count": 6,
     "metadata": {},
     "output_type": "execute_result"
    }
   ],
   "source": [
    "df['Tweet_Clean'] = df.Tweet.apply(cleansing)\n",
    "df.head()"
   ]
  },
  {
   "cell_type": "markdown",
   "id": "7dd36fa2-a22a-4075-ba93-2765419e2856",
   "metadata": {},
   "source": [
    "# Feature Extraction"
   ]
  },
  {
   "cell_type": "markdown",
   "id": "9e211a4b-1023-4a3c-abf7-5c55cda6d245",
   "metadata": {},
   "source": [
    "## TF-IDF"
   ]
  },
  {
   "cell_type": "code",
   "execution_count": 7,
   "id": "ef72d685-83b6-4c2c-8964-b62f3336a92b",
   "metadata": {},
   "outputs": [],
   "source": [
    "data_preprocessed = df.Tweet_Clean.tolist()"
   ]
  },
  {
   "cell_type": "code",
   "execution_count": 8,
   "id": "f9935f3a-8b6a-4d84-9660-5c353e1f2e49",
   "metadata": {},
   "outputs": [
    {
     "name": "stdout",
     "output_type": "stream",
     "text": [
      "Feature extraction selesai\n"
     ]
    }
   ],
   "source": [
    "# Proses feature extraction\n",
    "tfidf_vect = TfidfVectorizer()\n",
    "\n",
    "X = tfidf_vect.fit_transform(data_preprocessed)\n",
    "print(\"Feature extraction selesai\")"
   ]
  },
  {
   "cell_type": "code",
   "execution_count": 9,
   "id": "cd07c134-e9ce-4fe1-86fb-66e0c114a42f",
   "metadata": {},
   "outputs": [],
   "source": [
    "pickle.dump(tfidf_vect, open(\"feature.p\", \"wb\"))"
   ]
  },
  {
   "cell_type": "code",
   "execution_count": 10,
   "id": "5c059596-a23f-42b1-9e32-244cf8007568",
   "metadata": {},
   "outputs": [
    {
     "name": "stdout",
     "output_type": "stream",
     "text": [
      "        00  000  001   01  010  0111  011770465655617   02  021  022  ...  \\\n",
      "0      0.0  0.0  0.0  0.0  0.0   0.0              0.0  0.0  0.0  0.0  ...   \n",
      "1      0.0  0.0  0.0  0.0  0.0   0.0              0.0  0.0  0.0  0.0  ...   \n",
      "2      0.0  0.0  0.0  0.0  0.0   0.0              0.0  0.0  0.0  0.0  ...   \n",
      "3      0.0  0.0  0.0  0.0  0.0   0.0              0.0  0.0  0.0  0.0  ...   \n",
      "4      0.0  0.0  0.0  0.0  0.0   0.0              0.0  0.0  0.0  0.0  ...   \n",
      "...    ...  ...  ...  ...  ...   ...              ...  ...  ...  ...  ...   \n",
      "10928  0.0  0.0  0.0  0.0  0.0   0.0              0.0  0.0  0.0  0.0  ...   \n",
      "10929  0.0  0.0  0.0  0.0  0.0   0.0              0.0  0.0  0.0  0.0  ...   \n",
      "10930  0.0  0.0  0.0  0.0  0.0   0.0              0.0  0.0  0.0  0.0  ...   \n",
      "10931  0.0  0.0  0.0  0.0  0.0   0.0              0.0  0.0  0.0  0.0  ...   \n",
      "10932  0.0  0.0  0.0  0.0  0.0   0.0              0.0  0.0  0.0  0.0  ...   \n",
      "\n",
      "       zonpoliticon  zoo  zoom  zubir  zulfikri  zulkarnain  zup  zupa  zuppa  \\\n",
      "0               0.0  0.0   0.0    0.0       0.0         0.0  0.0   0.0    0.0   \n",
      "1               0.0  0.0   0.0    0.0       0.0         0.0  0.0   0.0    0.0   \n",
      "2               0.0  0.0   0.0    0.0       0.0         0.0  0.0   0.0    0.0   \n",
      "3               0.0  0.0   0.0    0.0       0.0         0.0  0.0   0.0    0.0   \n",
      "4               0.0  0.0   0.0    0.0       0.0         0.0  0.0   0.0    0.0   \n",
      "...             ...  ...   ...    ...       ...         ...  ...   ...    ...   \n",
      "10928           0.0  0.0   0.0    0.0       0.0         0.0  0.0   0.0    0.0   \n",
      "10929           0.0  0.0   0.0    0.0       0.0         0.0  0.0   0.0    0.0   \n",
      "10930           0.0  0.0   0.0    0.0       0.0         0.0  0.0   0.0    0.0   \n",
      "10931           0.0  0.0   0.0    0.0       0.0         0.0  0.0   0.0    0.0   \n",
      "10932           0.0  0.0   0.0    0.0       0.0         0.0  0.0   0.0    0.0   \n",
      "\n",
      "       zwitsal  \n",
      "0          0.0  \n",
      "1          0.0  \n",
      "2          0.0  \n",
      "3          0.0  \n",
      "4          0.0  \n",
      "...        ...  \n",
      "10928      0.0  \n",
      "10929      0.0  \n",
      "10930      0.0  \n",
      "10931      0.0  \n",
      "10932      0.0  \n",
      "\n",
      "[10933 rows x 12862 columns]\n"
     ]
    }
   ],
   "source": [
    "tfidf_array = X.toarray()\n",
    "df_array = pd.DataFrame(data=tfidf_array, columns=tfidf_vect.get_feature_names_out())\n",
    "print(df_array)"
   ]
  },
  {
   "cell_type": "markdown",
   "id": "2cfd770d-23fc-4c0b-9c1c-3e1631eff4ce",
   "metadata": {},
   "source": [
    "## Prepare Train and Test Dataset (Split Dataset)"
   ]
  },
  {
   "cell_type": "code",
   "execution_count": 11,
   "id": "8543ac57-5877-4386-b68e-d0ffa52ec681",
   "metadata": {},
   "outputs": [],
   "source": [
    "classes = df.Label\n",
    "\n",
    "# split dataset menjadi 80% untuk train dan 20% untuk test\n",
    "X_train, X_test, y_train, y_test = train_test_split(X, classes, test_size=0.2)"
   ]
  },
  {
   "cell_type": "code",
   "execution_count": 12,
   "id": "b51558b6-0d20-4dad-a6a5-2b767059c1c1",
   "metadata": {},
   "outputs": [
    {
     "name": "stdout",
     "output_type": "stream",
     "text": [
      "(8746, 12862)\n",
      "(2187, 12862)\n",
      "(8746,)\n",
      "(2187,)\n"
     ]
    }
   ],
   "source": [
    "print(X_train.shape)\n",
    "print(X_test.shape)\n",
    "print(y_train.shape)\n",
    "print(y_test.shape)"
   ]
  },
  {
   "cell_type": "markdown",
   "id": "a672c654-a825-4395-97ca-ef965dc51076",
   "metadata": {},
   "source": [
    "# Model Training"
   ]
  },
  {
   "cell_type": "markdown",
   "id": "3c5389d6-4750-44f7-8fbe-38653d5142bb",
   "metadata": {},
   "source": [
    "## Neural Network"
   ]
  },
  {
   "cell_type": "code",
   "execution_count": 13,
   "id": "aed5f273-78c6-4c6a-81a0-410c6485e84e",
   "metadata": {},
   "outputs": [
    {
     "name": "stdout",
     "output_type": "stream",
     "text": [
      "Training selesai\n"
     ]
    }
   ],
   "source": [
    "# model training menggunakan neural network\n",
    "model = MLPClassifier()\n",
    "model.fit(X_train, y_train)\n",
    "\n",
    "print(\"Training selesai\")"
   ]
  },
  {
   "cell_type": "code",
   "execution_count": 14,
   "id": "747a63e5-9dab-4f65-99b3-0efd84fd6ed3",
   "metadata": {},
   "outputs": [],
   "source": [
    "pickle.dump(model, open(\"model.p\", \"wb\"))"
   ]
  },
  {
   "cell_type": "markdown",
   "id": "dd7736eb-0cc6-4417-ba31-250a14809147",
   "metadata": {},
   "source": [
    "# Model Evaluation"
   ]
  },
  {
   "cell_type": "code",
   "execution_count": 15,
   "id": "8d261f50-3b77-41e1-aa68-acef0c705bdf",
   "metadata": {},
   "outputs": [
    {
     "name": "stdout",
     "output_type": "stream",
     "text": [
      "Testing selesai\n",
      "              precision    recall  f1-score   support\n",
      "\n",
      "    negative       0.68      0.73      0.70       653\n",
      "     neutral       0.68      0.49      0.57       227\n",
      "    positive       0.86      0.87      0.86      1307\n",
      "\n",
      "    accuracy                           0.79      2187\n",
      "   macro avg       0.74      0.70      0.71      2187\n",
      "weighted avg       0.79      0.79      0.79      2187\n",
      "\n"
     ]
    }
   ],
   "source": [
    "test = model.predict(X_test)\n",
    "\n",
    "print(\"Testing selesai\")\n",
    "print(classification_report(y_test, test))"
   ]
  },
  {
   "cell_type": "markdown",
   "id": "8a655428-d76e-4aa8-9f09-6cbb156935d0",
   "metadata": {},
   "source": [
    "## Cross Validation"
   ]
  },
  {
   "cell_type": "code",
   "execution_count": 16,
   "id": "606b3dd9-34ca-4260-97a2-75775f427124",
   "metadata": {},
   "outputs": [],
   "source": [
    "X = df[[\"Tweet_Clean\"]] #input feature\n",
    "Y = df[\"Label\"] #output feature\n",
    "\n",
    "# split dataset menjadi 80% untuk train dan 20% untuk test\n",
    "X_train, X_test, y_train, y_test = train_test_split(X, classes, test_size=0.2)"
   ]
  },
  {
   "cell_type": "code",
   "execution_count": 17,
   "id": "cc543eb8-7682-48e7-bf2e-d739810f25b3",
   "metadata": {},
   "outputs": [],
   "source": [
    "# cross validation dengan split = 5\n",
    "kf = KFold(n_splits=5, random_state=42, shuffle=True)\n",
    "\n",
    "accuracies = []\n",
    "\n",
    "X_train = X_train.reset_index().Tweet_Clean\n",
    "y_train = y_train.reset_index().Label\n",
    "\n",
    "def cross_validation(k, X_train, model, name):\n",
    "    accuracies = []\n",
    "    precisions = []\n",
    "    recalls = []\n",
    "    f1_scores = []\n",
    "\n",
    "    # iterate sebanyak k_cross validation\n",
    "    for iteration, data in enumerate(kf.split(X_train), start=1):\n",
    "        # mengambil data dan target train\n",
    "        data_train = X_train[data[0]]\n",
    "        tfidf_vect = TfidfVectorizer()\n",
    "        data_train = tfidf_vect.fit_transform(data_train)\n",
    "        target_train = y_train[data[0]]\n",
    "\n",
    "        # mengambil data dan target test\n",
    "        data_test = y_train[data[1]]\n",
    "        data_test = tfidf_vect.transform(data_test)\n",
    "        target_test = y_train[data[1]]\n",
    "\n",
    "        # model training menggunakan data train\n",
    "        classifier = model\n",
    "        classifier.fit(data_train, target_train)\n",
    "\n",
    "        # prediksi data test\n",
    "        preds = classifier.predict(data_test)\n",
    "\n",
    "        # menghitung accuracy\n",
    "        accuracy = accuracy_score(target_test, preds)\n",
    "        precision = precision_score(target_test, preds, average='weighted')\n",
    "        recall = recall_score(target_test, preds, average='weighted')\n",
    "        f1 = f1_score(target_test, preds, average='weighted')\n",
    "\n",
    "        #print(\"Training ke-\", iteration)\n",
    "        #print(classification_report(target_test, preds))\n",
    "        #print(\"=================================================================\")\n",
    "\n",
    "        accuracies.append(accuracy)\n",
    "        precisions.append(precision)\n",
    "        recalls.append(recall)\n",
    "        f1_scores.append(f1)\n",
    "\n",
    "    result = {'algorithm': name,\n",
    "                'accuracy_per_iter': accuracies, 'accuracy_mean': mean(accuracies), 'accuracy_std': stdev(accuracies),\n",
    "                'recall_mean': mean(recalls),'precision_mean': mean(precisions), 'f1_mean': mean(f1_scores)}\n",
    "    return result"
   ]
  },
  {
   "cell_type": "code",
   "execution_count": 18,
   "id": "02870105-1aac-4e24-a7ba-377d08be214a",
   "metadata": {},
   "outputs": [
    {
     "name": "stderr",
     "output_type": "stream",
     "text": [
      "C:\\Users\\Reza Fakhrurrozi\\AppData\\Local\\Programs\\Python\\Python311\\Lib\\site-packages\\sklearn\\metrics\\_classification.py:1469: UndefinedMetricWarning: Precision is ill-defined and being set to 0.0 in labels with no predicted samples. Use `zero_division` parameter to control this behavior.\n",
      "  _warn_prf(average, modifier, msg_start, len(result))\n",
      "C:\\Users\\Reza Fakhrurrozi\\AppData\\Local\\Programs\\Python\\Python311\\Lib\\site-packages\\sklearn\\metrics\\_classification.py:1469: UndefinedMetricWarning: Precision is ill-defined and being set to 0.0 in labels with no predicted samples. Use `zero_division` parameter to control this behavior.\n",
      "  _warn_prf(average, modifier, msg_start, len(result))\n",
      "C:\\Users\\Reza Fakhrurrozi\\AppData\\Local\\Programs\\Python\\Python311\\Lib\\site-packages\\sklearn\\metrics\\_classification.py:1469: UndefinedMetricWarning: Precision is ill-defined and being set to 0.0 in labels with no predicted samples. Use `zero_division` parameter to control this behavior.\n",
      "  _warn_prf(average, modifier, msg_start, len(result))\n",
      "C:\\Users\\Reza Fakhrurrozi\\AppData\\Local\\Programs\\Python\\Python311\\Lib\\site-packages\\sklearn\\metrics\\_classification.py:1469: UndefinedMetricWarning: Precision is ill-defined and being set to 0.0 in labels with no predicted samples. Use `zero_division` parameter to control this behavior.\n",
      "  _warn_prf(average, modifier, msg_start, len(result))\n",
      "C:\\Users\\Reza Fakhrurrozi\\AppData\\Local\\Programs\\Python\\Python311\\Lib\\site-packages\\sklearn\\metrics\\_classification.py:1469: UndefinedMetricWarning: Precision is ill-defined and being set to 0.0 in labels with no predicted samples. Use `zero_division` parameter to control this behavior.\n",
      "  _warn_prf(average, modifier, msg_start, len(result))\n"
     ]
    },
    {
     "data": {
      "text/plain": [
       "{'algorithm': 'Neural Network',\n",
       " 'accuracy_per_iter': [0.30514285714285716,\n",
       "  0.3047455688965123,\n",
       "  0.3270440251572327,\n",
       "  0.5603201829616924,\n",
       "  0.3098913664951401],\n",
       " 'accuracy_mean': 0.3614288001306869,\n",
       " 'accuracy_std': 0.11155413266808988,\n",
       " 'recall_mean': 0.3614288001306869,\n",
       " 'precision_mean': 0.14058623717617186,\n",
       " 'f1_mean': 0.19905891725525748}"
      ]
     },
     "execution_count": 18,
     "metadata": {},
     "output_type": "execute_result"
    }
   ],
   "source": [
    "result = cross_validation(5, X_train, MLPClassifier(), \"Neural Network\")\n",
    "result"
   ]
  },
  {
   "cell_type": "markdown",
   "id": "3d722f42-b75b-4715-8cf4-37c9d1d5dbda",
   "metadata": {},
   "source": [
    "## Compare All Models with Cross Validation"
   ]
  },
  {
   "cell_type": "code",
   "execution_count": 19,
   "id": "d737d211-005c-4fda-be9e-ecaf7142ab69",
   "metadata": {},
   "outputs": [],
   "source": [
    "X = df[[\"Tweet_Clean\"]] #input feature\n",
    "Y = df[\"Label\"] #output feature\n",
    "\n",
    "# split dataset menjadi 80% untuk train dan 20% untuk test\n",
    "X_train, X_test, y_train, y_test = train_test_split(X, classes, test_size=0.2)\n",
    "\n",
    "X_train = X_train.reset_index().Tweet_Clean\n",
    "y_train = y_train.reset_index().Label\n",
    "\n",
    "X_test = X_test.reset_index().Tweet_Clean\n",
    "y_test = y_test.reset_index().Label"
   ]
  },
  {
   "cell_type": "code",
   "execution_count": 20,
   "id": "90af91a9-af1c-4f5a-9b2e-2dba23b3a1d6",
   "metadata": {},
   "outputs": [],
   "source": [
    "# loading model\n",
    "models = []\n",
    "models.append(('Logistic Regression', LogisticRegression()))\n",
    "models.append(('K Nearest Neighbour', KNeighborsClassifier()))\n",
    "models.append(('Naive Bayes', MultinomialNB()))\n",
    "models.append(('Support Vector Machine', SVC()))\n",
    "models.append(('Neural Network', MLPClassifier()))\n",
    "models.append(('Decision Tree', DecisionTreeClassifier()))\n",
    "models.append(('Random Forest', RandomForestClassifier()))\n",
    "models.append(('Gradient Boosting', GradientBoostingClassifier()))\n",
    "models.append(('AdaBoost', AdaBoostClassifier()))"
   ]
  },
  {
   "cell_type": "code",
   "execution_count": 21,
   "id": "62c944d8-5a75-4a15-87ad-6f51a84d75f0",
   "metadata": {},
   "outputs": [
    {
     "name": "stdout",
     "output_type": "stream",
     "text": [
      "Logistic Regression\n"
     ]
    },
    {
     "name": "stderr",
     "output_type": "stream",
     "text": [
      "C:\\Users\\Reza Fakhrurrozi\\AppData\\Local\\Programs\\Python\\Python311\\Lib\\site-packages\\sklearn\\metrics\\_classification.py:1469: UndefinedMetricWarning: Precision is ill-defined and being set to 0.0 in labels with no predicted samples. Use `zero_division` parameter to control this behavior.\n",
      "  _warn_prf(average, modifier, msg_start, len(result))\n",
      "C:\\Users\\Reza Fakhrurrozi\\AppData\\Local\\Programs\\Python\\Python311\\Lib\\site-packages\\sklearn\\metrics\\_classification.py:1469: UndefinedMetricWarning: Precision is ill-defined and being set to 0.0 in labels with no predicted samples. Use `zero_division` parameter to control this behavior.\n",
      "  _warn_prf(average, modifier, msg_start, len(result))\n",
      "C:\\Users\\Reza Fakhrurrozi\\AppData\\Local\\Programs\\Python\\Python311\\Lib\\site-packages\\sklearn\\metrics\\_classification.py:1469: UndefinedMetricWarning: Precision is ill-defined and being set to 0.0 in labels with no predicted samples. Use `zero_division` parameter to control this behavior.\n",
      "  _warn_prf(average, modifier, msg_start, len(result))\n",
      "C:\\Users\\Reza Fakhrurrozi\\AppData\\Local\\Programs\\Python\\Python311\\Lib\\site-packages\\sklearn\\metrics\\_classification.py:1469: UndefinedMetricWarning: Precision is ill-defined and being set to 0.0 in labels with no predicted samples. Use `zero_division` parameter to control this behavior.\n",
      "  _warn_prf(average, modifier, msg_start, len(result))\n",
      "C:\\Users\\Reza Fakhrurrozi\\AppData\\Local\\Programs\\Python\\Python311\\Lib\\site-packages\\sklearn\\metrics\\_classification.py:1469: UndefinedMetricWarning: Precision is ill-defined and being set to 0.0 in labels with no predicted samples. Use `zero_division` parameter to control this behavior.\n",
      "  _warn_prf(average, modifier, msg_start, len(result))\n"
     ]
    },
    {
     "name": "stdout",
     "output_type": "stream",
     "text": [
      "{'algorithm': 'Logistic Regression', 'accuracy_per_iter': [0.3068571428571429, 0.32075471698113206, 0.29559748427672955, 0.3270440251572327, 0.31503716409376786], 'accuracy_mean': 0.313058106673201, 'accuracy_std': 0.012268717140233663, 'recall_mean': 0.313058106673201, 'precision_mean': 0.09812579529002295, 'f1_mean': 0.14938476549249913}\n",
      "K Nearest Neighbour\n"
     ]
    },
    {
     "name": "stderr",
     "output_type": "stream",
     "text": [
      "C:\\Users\\Reza Fakhrurrozi\\AppData\\Local\\Programs\\Python\\Python311\\Lib\\site-packages\\sklearn\\metrics\\_classification.py:1469: UndefinedMetricWarning: Precision is ill-defined and being set to 0.0 in labels with no predicted samples. Use `zero_division` parameter to control this behavior.\n",
      "  _warn_prf(average, modifier, msg_start, len(result))\n",
      "C:\\Users\\Reza Fakhrurrozi\\AppData\\Local\\Programs\\Python\\Python311\\Lib\\site-packages\\sklearn\\metrics\\_classification.py:1469: UndefinedMetricWarning: Precision is ill-defined and being set to 0.0 in labels with no predicted samples. Use `zero_division` parameter to control this behavior.\n",
      "  _warn_prf(average, modifier, msg_start, len(result))\n",
      "C:\\Users\\Reza Fakhrurrozi\\AppData\\Local\\Programs\\Python\\Python311\\Lib\\site-packages\\sklearn\\metrics\\_classification.py:1469: UndefinedMetricWarning: Precision is ill-defined and being set to 0.0 in labels with no predicted samples. Use `zero_division` parameter to control this behavior.\n",
      "  _warn_prf(average, modifier, msg_start, len(result))\n",
      "C:\\Users\\Reza Fakhrurrozi\\AppData\\Local\\Programs\\Python\\Python311\\Lib\\site-packages\\sklearn\\metrics\\_classification.py:1469: UndefinedMetricWarning: Precision is ill-defined and being set to 0.0 in labels with no predicted samples. Use `zero_division` parameter to control this behavior.\n",
      "  _warn_prf(average, modifier, msg_start, len(result))\n",
      "C:\\Users\\Reza Fakhrurrozi\\AppData\\Local\\Programs\\Python\\Python311\\Lib\\site-packages\\sklearn\\metrics\\_classification.py:1469: UndefinedMetricWarning: Precision is ill-defined and being set to 0.0 in labels with no predicted samples. Use `zero_division` parameter to control this behavior.\n",
      "  _warn_prf(average, modifier, msg_start, len(result))\n"
     ]
    },
    {
     "name": "stdout",
     "output_type": "stream",
     "text": [
      "{'algorithm': 'K Nearest Neighbour', 'accuracy_per_iter': [0.3068571428571429, 0.32075471698113206, 0.6049170954831332, 0.5637507146941109, 0.31503716409376786], 'accuracy_mean': 0.4222633668218574, 'accuracy_std': 0.1487456850429259, 'recall_mean': 0.4222633668218574, 'precision_mean': 0.19600657401484195, 'f1_mean': 0.2626649252778666}\n",
      "Naive Bayes\n"
     ]
    },
    {
     "name": "stderr",
     "output_type": "stream",
     "text": [
      "C:\\Users\\Reza Fakhrurrozi\\AppData\\Local\\Programs\\Python\\Python311\\Lib\\site-packages\\sklearn\\metrics\\_classification.py:1469: UndefinedMetricWarning: Precision is ill-defined and being set to 0.0 in labels with no predicted samples. Use `zero_division` parameter to control this behavior.\n",
      "  _warn_prf(average, modifier, msg_start, len(result))\n",
      "C:\\Users\\Reza Fakhrurrozi\\AppData\\Local\\Programs\\Python\\Python311\\Lib\\site-packages\\sklearn\\metrics\\_classification.py:1469: UndefinedMetricWarning: Precision is ill-defined and being set to 0.0 in labels with no predicted samples. Use `zero_division` parameter to control this behavior.\n",
      "  _warn_prf(average, modifier, msg_start, len(result))\n",
      "C:\\Users\\Reza Fakhrurrozi\\AppData\\Local\\Programs\\Python\\Python311\\Lib\\site-packages\\sklearn\\metrics\\_classification.py:1469: UndefinedMetricWarning: Precision is ill-defined and being set to 0.0 in labels with no predicted samples. Use `zero_division` parameter to control this behavior.\n",
      "  _warn_prf(average, modifier, msg_start, len(result))\n",
      "C:\\Users\\Reza Fakhrurrozi\\AppData\\Local\\Programs\\Python\\Python311\\Lib\\site-packages\\sklearn\\metrics\\_classification.py:1469: UndefinedMetricWarning: Precision is ill-defined and being set to 0.0 in labels with no predicted samples. Use `zero_division` parameter to control this behavior.\n",
      "  _warn_prf(average, modifier, msg_start, len(result))\n",
      "C:\\Users\\Reza Fakhrurrozi\\AppData\\Local\\Programs\\Python\\Python311\\Lib\\site-packages\\sklearn\\metrics\\_classification.py:1469: UndefinedMetricWarning: Precision is ill-defined and being set to 0.0 in labels with no predicted samples. Use `zero_division` parameter to control this behavior.\n",
      "  _warn_prf(average, modifier, msg_start, len(result))\n"
     ]
    },
    {
     "name": "stdout",
     "output_type": "stream",
     "text": [
      "{'algorithm': 'Naive Bayes', 'accuracy_per_iter': [0.5874285714285714, 0.5831903945111492, 0.6049170954831332, 0.5637507146941109, 0.577472841623785], 'accuracy_mean': 0.5833519235481499, 'accuracy_std': 0.015003939340796338, 'recall_mean': 0.5833519235481499, 'precision_mean': 0.3404795612639204, 'f1_mean': 0.4299375151947787}\n",
      "Support Vector Machine\n"
     ]
    },
    {
     "name": "stderr",
     "output_type": "stream",
     "text": [
      "C:\\Users\\Reza Fakhrurrozi\\AppData\\Local\\Programs\\Python\\Python311\\Lib\\site-packages\\sklearn\\metrics\\_classification.py:1469: UndefinedMetricWarning: Precision is ill-defined and being set to 0.0 in labels with no predicted samples. Use `zero_division` parameter to control this behavior.\n",
      "  _warn_prf(average, modifier, msg_start, len(result))\n",
      "C:\\Users\\Reza Fakhrurrozi\\AppData\\Local\\Programs\\Python\\Python311\\Lib\\site-packages\\sklearn\\metrics\\_classification.py:1469: UndefinedMetricWarning: Precision is ill-defined and being set to 0.0 in labels with no predicted samples. Use `zero_division` parameter to control this behavior.\n",
      "  _warn_prf(average, modifier, msg_start, len(result))\n",
      "C:\\Users\\Reza Fakhrurrozi\\AppData\\Local\\Programs\\Python\\Python311\\Lib\\site-packages\\sklearn\\metrics\\_classification.py:1469: UndefinedMetricWarning: Precision is ill-defined and being set to 0.0 in labels with no predicted samples. Use `zero_division` parameter to control this behavior.\n",
      "  _warn_prf(average, modifier, msg_start, len(result))\n",
      "C:\\Users\\Reza Fakhrurrozi\\AppData\\Local\\Programs\\Python\\Python311\\Lib\\site-packages\\sklearn\\metrics\\_classification.py:1469: UndefinedMetricWarning: Precision is ill-defined and being set to 0.0 in labels with no predicted samples. Use `zero_division` parameter to control this behavior.\n",
      "  _warn_prf(average, modifier, msg_start, len(result))\n",
      "C:\\Users\\Reza Fakhrurrozi\\AppData\\Local\\Programs\\Python\\Python311\\Lib\\site-packages\\sklearn\\metrics\\_classification.py:1469: UndefinedMetricWarning: Precision is ill-defined and being set to 0.0 in labels with no predicted samples. Use `zero_division` parameter to control this behavior.\n",
      "  _warn_prf(average, modifier, msg_start, len(result))\n"
     ]
    },
    {
     "name": "stdout",
     "output_type": "stream",
     "text": [
      "{'algorithm': 'Support Vector Machine', 'accuracy_per_iter': [0.3068571428571429, 0.32075471698113206, 0.29559748427672955, 0.5637507146941109, 0.31503716409376786], 'accuracy_mean': 0.36039944458057666, 'accuracy_std': 0.11406933429635047, 'recall_mean': 0.36039944458057666, 'precision_mean': 0.1402972100754382, 'f1_mean': 0.19844088716011438}\n",
      "Neural Network\n"
     ]
    },
    {
     "name": "stderr",
     "output_type": "stream",
     "text": [
      "C:\\Users\\Reza Fakhrurrozi\\AppData\\Local\\Programs\\Python\\Python311\\Lib\\site-packages\\sklearn\\metrics\\_classification.py:1469: UndefinedMetricWarning: Precision is ill-defined and being set to 0.0 in labels with no predicted samples. Use `zero_division` parameter to control this behavior.\n",
      "  _warn_prf(average, modifier, msg_start, len(result))\n",
      "C:\\Users\\Reza Fakhrurrozi\\AppData\\Local\\Programs\\Python\\Python311\\Lib\\site-packages\\sklearn\\metrics\\_classification.py:1469: UndefinedMetricWarning: Precision is ill-defined and being set to 0.0 in labels with no predicted samples. Use `zero_division` parameter to control this behavior.\n",
      "  _warn_prf(average, modifier, msg_start, len(result))\n",
      "C:\\Users\\Reza Fakhrurrozi\\AppData\\Local\\Programs\\Python\\Python311\\Lib\\site-packages\\sklearn\\metrics\\_classification.py:1469: UndefinedMetricWarning: Precision is ill-defined and being set to 0.0 in labels with no predicted samples. Use `zero_division` parameter to control this behavior.\n",
      "  _warn_prf(average, modifier, msg_start, len(result))\n",
      "C:\\Users\\Reza Fakhrurrozi\\AppData\\Local\\Programs\\Python\\Python311\\Lib\\site-packages\\sklearn\\metrics\\_classification.py:1469: UndefinedMetricWarning: Precision is ill-defined and being set to 0.0 in labels with no predicted samples. Use `zero_division` parameter to control this behavior.\n",
      "  _warn_prf(average, modifier, msg_start, len(result))\n",
      "C:\\Users\\Reza Fakhrurrozi\\AppData\\Local\\Programs\\Python\\Python311\\Lib\\site-packages\\sklearn\\metrics\\_classification.py:1469: UndefinedMetricWarning: Precision is ill-defined and being set to 0.0 in labels with no predicted samples. Use `zero_division` parameter to control this behavior.\n",
      "  _warn_prf(average, modifier, msg_start, len(result))\n"
     ]
    },
    {
     "name": "stdout",
     "output_type": "stream",
     "text": [
      "{'algorithm': 'Neural Network', 'accuracy_per_iter': [0.5874285714285714, 0.32075471698113206, 0.29559748427672955, 0.5637507146941109, 0.31503716409376786], 'accuracy_mean': 0.4165137302948623, 'accuracy_std': 0.14575547430941269, 'recall_mean': 0.4165137302948623, 'precision_mean': 0.19047941415707084, 'f1_mean': 0.256571468981418}\n",
      "Decision Tree\n"
     ]
    },
    {
     "name": "stderr",
     "output_type": "stream",
     "text": [
      "C:\\Users\\Reza Fakhrurrozi\\AppData\\Local\\Programs\\Python\\Python311\\Lib\\site-packages\\sklearn\\metrics\\_classification.py:1469: UndefinedMetricWarning: Precision is ill-defined and being set to 0.0 in labels with no predicted samples. Use `zero_division` parameter to control this behavior.\n",
      "  _warn_prf(average, modifier, msg_start, len(result))\n",
      "C:\\Users\\Reza Fakhrurrozi\\AppData\\Local\\Programs\\Python\\Python311\\Lib\\site-packages\\sklearn\\metrics\\_classification.py:1469: UndefinedMetricWarning: Precision is ill-defined and being set to 0.0 in labels with no predicted samples. Use `zero_division` parameter to control this behavior.\n",
      "  _warn_prf(average, modifier, msg_start, len(result))\n",
      "C:\\Users\\Reza Fakhrurrozi\\AppData\\Local\\Programs\\Python\\Python311\\Lib\\site-packages\\sklearn\\metrics\\_classification.py:1469: UndefinedMetricWarning: Precision is ill-defined and being set to 0.0 in labels with no predicted samples. Use `zero_division` parameter to control this behavior.\n",
      "  _warn_prf(average, modifier, msg_start, len(result))\n",
      "C:\\Users\\Reza Fakhrurrozi\\AppData\\Local\\Programs\\Python\\Python311\\Lib\\site-packages\\sklearn\\metrics\\_classification.py:1469: UndefinedMetricWarning: Precision is ill-defined and being set to 0.0 in labels with no predicted samples. Use `zero_division` parameter to control this behavior.\n",
      "  _warn_prf(average, modifier, msg_start, len(result))\n",
      "C:\\Users\\Reza Fakhrurrozi\\AppData\\Local\\Programs\\Python\\Python311\\Lib\\site-packages\\sklearn\\metrics\\_classification.py:1469: UndefinedMetricWarning: Precision is ill-defined and being set to 0.0 in labels with no predicted samples. Use `zero_division` parameter to control this behavior.\n",
      "  _warn_prf(average, modifier, msg_start, len(result))\n"
     ]
    },
    {
     "name": "stdout",
     "output_type": "stream",
     "text": [
      "{'algorithm': 'Decision Tree', 'accuracy_per_iter': [0.3068571428571429, 0.32075471698113206, 0.29559748427672955, 0.5637507146941109, 0.31503716409376786], 'accuracy_mean': 0.36039944458057666, 'accuracy_std': 0.11406933429635047, 'recall_mean': 0.36039944458057666, 'precision_mean': 0.1402972100754382, 'f1_mean': 0.19844088716011438}\n",
      "Random Forest\n"
     ]
    },
    {
     "name": "stderr",
     "output_type": "stream",
     "text": [
      "C:\\Users\\Reza Fakhrurrozi\\AppData\\Local\\Programs\\Python\\Python311\\Lib\\site-packages\\sklearn\\metrics\\_classification.py:1469: UndefinedMetricWarning: Precision is ill-defined and being set to 0.0 in labels with no predicted samples. Use `zero_division` parameter to control this behavior.\n",
      "  _warn_prf(average, modifier, msg_start, len(result))\n",
      "C:\\Users\\Reza Fakhrurrozi\\AppData\\Local\\Programs\\Python\\Python311\\Lib\\site-packages\\sklearn\\metrics\\_classification.py:1469: UndefinedMetricWarning: Precision is ill-defined and being set to 0.0 in labels with no predicted samples. Use `zero_division` parameter to control this behavior.\n",
      "  _warn_prf(average, modifier, msg_start, len(result))\n",
      "C:\\Users\\Reza Fakhrurrozi\\AppData\\Local\\Programs\\Python\\Python311\\Lib\\site-packages\\sklearn\\metrics\\_classification.py:1469: UndefinedMetricWarning: Precision is ill-defined and being set to 0.0 in labels with no predicted samples. Use `zero_division` parameter to control this behavior.\n",
      "  _warn_prf(average, modifier, msg_start, len(result))\n",
      "C:\\Users\\Reza Fakhrurrozi\\AppData\\Local\\Programs\\Python\\Python311\\Lib\\site-packages\\sklearn\\metrics\\_classification.py:1469: UndefinedMetricWarning: Precision is ill-defined and being set to 0.0 in labels with no predicted samples. Use `zero_division` parameter to control this behavior.\n",
      "  _warn_prf(average, modifier, msg_start, len(result))\n",
      "C:\\Users\\Reza Fakhrurrozi\\AppData\\Local\\Programs\\Python\\Python311\\Lib\\site-packages\\sklearn\\metrics\\_classification.py:1469: UndefinedMetricWarning: Precision is ill-defined and being set to 0.0 in labels with no predicted samples. Use `zero_division` parameter to control this behavior.\n",
      "  _warn_prf(average, modifier, msg_start, len(result))\n"
     ]
    },
    {
     "name": "stdout",
     "output_type": "stream",
     "text": [
      "{'algorithm': 'Random Forest', 'accuracy_per_iter': [0.3068571428571429, 0.32075471698113206, 0.29559748427672955, 0.5637507146941109, 0.31503716409376786], 'accuracy_mean': 0.36039944458057666, 'accuracy_std': 0.11406933429635047, 'recall_mean': 0.36039944458057666, 'precision_mean': 0.1402972100754382, 'f1_mean': 0.19844088716011438}\n",
      "Gradient Boosting\n"
     ]
    },
    {
     "name": "stderr",
     "output_type": "stream",
     "text": [
      "C:\\Users\\Reza Fakhrurrozi\\AppData\\Local\\Programs\\Python\\Python311\\Lib\\site-packages\\sklearn\\metrics\\_classification.py:1469: UndefinedMetricWarning: Precision is ill-defined and being set to 0.0 in labels with no predicted samples. Use `zero_division` parameter to control this behavior.\n",
      "  _warn_prf(average, modifier, msg_start, len(result))\n",
      "C:\\Users\\Reza Fakhrurrozi\\AppData\\Local\\Programs\\Python\\Python311\\Lib\\site-packages\\sklearn\\metrics\\_classification.py:1469: UndefinedMetricWarning: Precision is ill-defined and being set to 0.0 in labels with no predicted samples. Use `zero_division` parameter to control this behavior.\n",
      "  _warn_prf(average, modifier, msg_start, len(result))\n",
      "C:\\Users\\Reza Fakhrurrozi\\AppData\\Local\\Programs\\Python\\Python311\\Lib\\site-packages\\sklearn\\metrics\\_classification.py:1469: UndefinedMetricWarning: Precision is ill-defined and being set to 0.0 in labels with no predicted samples. Use `zero_division` parameter to control this behavior.\n",
      "  _warn_prf(average, modifier, msg_start, len(result))\n",
      "C:\\Users\\Reza Fakhrurrozi\\AppData\\Local\\Programs\\Python\\Python311\\Lib\\site-packages\\sklearn\\metrics\\_classification.py:1469: UndefinedMetricWarning: Precision is ill-defined and being set to 0.0 in labels with no predicted samples. Use `zero_division` parameter to control this behavior.\n",
      "  _warn_prf(average, modifier, msg_start, len(result))\n",
      "C:\\Users\\Reza Fakhrurrozi\\AppData\\Local\\Programs\\Python\\Python311\\Lib\\site-packages\\sklearn\\metrics\\_classification.py:1469: UndefinedMetricWarning: Precision is ill-defined and being set to 0.0 in labels with no predicted samples. Use `zero_division` parameter to control this behavior.\n",
      "  _warn_prf(average, modifier, msg_start, len(result))\n"
     ]
    },
    {
     "name": "stdout",
     "output_type": "stream",
     "text": [
      "{'algorithm': 'Gradient Boosting', 'accuracy_per_iter': [0.3068571428571429, 0.32075471698113206, 0.29559748427672955, 0.3270440251572327, 0.31503716409376786], 'accuracy_mean': 0.313058106673201, 'accuracy_std': 0.012268717140233663, 'recall_mean': 0.313058106673201, 'precision_mean': 0.09812579529002295, 'f1_mean': 0.14938476549249913}\n",
      "AdaBoost\n"
     ]
    },
    {
     "name": "stderr",
     "output_type": "stream",
     "text": [
      "C:\\Users\\Reza Fakhrurrozi\\AppData\\Local\\Programs\\Python\\Python311\\Lib\\site-packages\\sklearn\\metrics\\_classification.py:1469: UndefinedMetricWarning: Precision is ill-defined and being set to 0.0 in labels with no predicted samples. Use `zero_division` parameter to control this behavior.\n",
      "  _warn_prf(average, modifier, msg_start, len(result))\n",
      "C:\\Users\\Reza Fakhrurrozi\\AppData\\Local\\Programs\\Python\\Python311\\Lib\\site-packages\\sklearn\\metrics\\_classification.py:1469: UndefinedMetricWarning: Precision is ill-defined and being set to 0.0 in labels with no predicted samples. Use `zero_division` parameter to control this behavior.\n",
      "  _warn_prf(average, modifier, msg_start, len(result))\n",
      "C:\\Users\\Reza Fakhrurrozi\\AppData\\Local\\Programs\\Python\\Python311\\Lib\\site-packages\\sklearn\\metrics\\_classification.py:1469: UndefinedMetricWarning: Precision is ill-defined and being set to 0.0 in labels with no predicted samples. Use `zero_division` parameter to control this behavior.\n",
      "  _warn_prf(average, modifier, msg_start, len(result))\n",
      "C:\\Users\\Reza Fakhrurrozi\\AppData\\Local\\Programs\\Python\\Python311\\Lib\\site-packages\\sklearn\\metrics\\_classification.py:1469: UndefinedMetricWarning: Precision is ill-defined and being set to 0.0 in labels with no predicted samples. Use `zero_division` parameter to control this behavior.\n",
      "  _warn_prf(average, modifier, msg_start, len(result))\n"
     ]
    },
    {
     "name": "stdout",
     "output_type": "stream",
     "text": [
      "{'algorithm': 'AdaBoost', 'accuracy_per_iter': [0.3068571428571429, 0.32075471698113206, 0.29559748427672955, 0.3270440251572327, 0.31503716409376786], 'accuracy_mean': 0.313058106673201, 'accuracy_std': 0.012268717140233663, 'recall_mean': 0.313058106673201, 'precision_mean': 0.09812579529002295, 'f1_mean': 0.14938476549249913}\n"
     ]
    },
    {
     "name": "stderr",
     "output_type": "stream",
     "text": [
      "C:\\Users\\Reza Fakhrurrozi\\AppData\\Local\\Programs\\Python\\Python311\\Lib\\site-packages\\sklearn\\metrics\\_classification.py:1469: UndefinedMetricWarning: Precision is ill-defined and being set to 0.0 in labels with no predicted samples. Use `zero_division` parameter to control this behavior.\n",
      "  _warn_prf(average, modifier, msg_start, len(result))\n"
     ]
    }
   ],
   "source": [
    "# evaluating the model\n",
    "results = []\n",
    "for name, model in models:\n",
    "      print(name)\n",
    "      result = cross_validation(5, X_train, model, name)\n",
    "      results.append(result)\n",
    "      print(result)\n",
    "results = pd.DataFrame(results)\n",
    "results = results.sort_values(\"accuracy_mean\",ascending=False)"
   ]
  },
  {
   "cell_type": "code",
   "execution_count": 22,
   "id": "4d1903b7-f671-4a4e-a065-b579714ff93f",
   "metadata": {},
   "outputs": [
    {
     "data": {
      "text/html": [
       "<div>\n",
       "<style scoped>\n",
       "    .dataframe tbody tr th:only-of-type {\n",
       "        vertical-align: middle;\n",
       "    }\n",
       "\n",
       "    .dataframe tbody tr th {\n",
       "        vertical-align: top;\n",
       "    }\n",
       "\n",
       "    .dataframe thead th {\n",
       "        text-align: right;\n",
       "    }\n",
       "</style>\n",
       "<table border=\"1\" class=\"dataframe\">\n",
       "  <thead>\n",
       "    <tr style=\"text-align: right;\">\n",
       "      <th></th>\n",
       "      <th>algorithm</th>\n",
       "      <th>accuracy_per_iter</th>\n",
       "      <th>accuracy_mean</th>\n",
       "      <th>accuracy_std</th>\n",
       "      <th>recall_mean</th>\n",
       "      <th>precision_mean</th>\n",
       "      <th>f1_mean</th>\n",
       "    </tr>\n",
       "  </thead>\n",
       "  <tbody>\n",
       "    <tr>\n",
       "      <th>2</th>\n",
       "      <td>Naive Bayes</td>\n",
       "      <td>[0.5874285714285714, 0.5831903945111492, 0.604...</td>\n",
       "      <td>0.583352</td>\n",
       "      <td>0.015004</td>\n",
       "      <td>0.583352</td>\n",
       "      <td>0.340480</td>\n",
       "      <td>0.429938</td>\n",
       "    </tr>\n",
       "    <tr>\n",
       "      <th>1</th>\n",
       "      <td>K Nearest Neighbour</td>\n",
       "      <td>[0.3068571428571429, 0.32075471698113206, 0.60...</td>\n",
       "      <td>0.422263</td>\n",
       "      <td>0.148746</td>\n",
       "      <td>0.422263</td>\n",
       "      <td>0.196007</td>\n",
       "      <td>0.262665</td>\n",
       "    </tr>\n",
       "    <tr>\n",
       "      <th>4</th>\n",
       "      <td>Neural Network</td>\n",
       "      <td>[0.5874285714285714, 0.32075471698113206, 0.29...</td>\n",
       "      <td>0.416514</td>\n",
       "      <td>0.145755</td>\n",
       "      <td>0.416514</td>\n",
       "      <td>0.190479</td>\n",
       "      <td>0.256571</td>\n",
       "    </tr>\n",
       "    <tr>\n",
       "      <th>3</th>\n",
       "      <td>Support Vector Machine</td>\n",
       "      <td>[0.3068571428571429, 0.32075471698113206, 0.29...</td>\n",
       "      <td>0.360399</td>\n",
       "      <td>0.114069</td>\n",
       "      <td>0.360399</td>\n",
       "      <td>0.140297</td>\n",
       "      <td>0.198441</td>\n",
       "    </tr>\n",
       "    <tr>\n",
       "      <th>5</th>\n",
       "      <td>Decision Tree</td>\n",
       "      <td>[0.3068571428571429, 0.32075471698113206, 0.29...</td>\n",
       "      <td>0.360399</td>\n",
       "      <td>0.114069</td>\n",
       "      <td>0.360399</td>\n",
       "      <td>0.140297</td>\n",
       "      <td>0.198441</td>\n",
       "    </tr>\n",
       "    <tr>\n",
       "      <th>6</th>\n",
       "      <td>Random Forest</td>\n",
       "      <td>[0.3068571428571429, 0.32075471698113206, 0.29...</td>\n",
       "      <td>0.360399</td>\n",
       "      <td>0.114069</td>\n",
       "      <td>0.360399</td>\n",
       "      <td>0.140297</td>\n",
       "      <td>0.198441</td>\n",
       "    </tr>\n",
       "    <tr>\n",
       "      <th>0</th>\n",
       "      <td>Logistic Regression</td>\n",
       "      <td>[0.3068571428571429, 0.32075471698113206, 0.29...</td>\n",
       "      <td>0.313058</td>\n",
       "      <td>0.012269</td>\n",
       "      <td>0.313058</td>\n",
       "      <td>0.098126</td>\n",
       "      <td>0.149385</td>\n",
       "    </tr>\n",
       "    <tr>\n",
       "      <th>7</th>\n",
       "      <td>Gradient Boosting</td>\n",
       "      <td>[0.3068571428571429, 0.32075471698113206, 0.29...</td>\n",
       "      <td>0.313058</td>\n",
       "      <td>0.012269</td>\n",
       "      <td>0.313058</td>\n",
       "      <td>0.098126</td>\n",
       "      <td>0.149385</td>\n",
       "    </tr>\n",
       "    <tr>\n",
       "      <th>8</th>\n",
       "      <td>AdaBoost</td>\n",
       "      <td>[0.3068571428571429, 0.32075471698113206, 0.29...</td>\n",
       "      <td>0.313058</td>\n",
       "      <td>0.012269</td>\n",
       "      <td>0.313058</td>\n",
       "      <td>0.098126</td>\n",
       "      <td>0.149385</td>\n",
       "    </tr>\n",
       "  </tbody>\n",
       "</table>\n",
       "</div>"
      ],
      "text/plain": [
       "                algorithm                                  accuracy_per_iter  \\\n",
       "2             Naive Bayes  [0.5874285714285714, 0.5831903945111492, 0.604...   \n",
       "1     K Nearest Neighbour  [0.3068571428571429, 0.32075471698113206, 0.60...   \n",
       "4          Neural Network  [0.5874285714285714, 0.32075471698113206, 0.29...   \n",
       "3  Support Vector Machine  [0.3068571428571429, 0.32075471698113206, 0.29...   \n",
       "5           Decision Tree  [0.3068571428571429, 0.32075471698113206, 0.29...   \n",
       "6           Random Forest  [0.3068571428571429, 0.32075471698113206, 0.29...   \n",
       "0     Logistic Regression  [0.3068571428571429, 0.32075471698113206, 0.29...   \n",
       "7       Gradient Boosting  [0.3068571428571429, 0.32075471698113206, 0.29...   \n",
       "8                AdaBoost  [0.3068571428571429, 0.32075471698113206, 0.29...   \n",
       "\n",
       "   accuracy_mean  accuracy_std  recall_mean  precision_mean   f1_mean  \n",
       "2       0.583352      0.015004     0.583352        0.340480  0.429938  \n",
       "1       0.422263      0.148746     0.422263        0.196007  0.262665  \n",
       "4       0.416514      0.145755     0.416514        0.190479  0.256571  \n",
       "3       0.360399      0.114069     0.360399        0.140297  0.198441  \n",
       "5       0.360399      0.114069     0.360399        0.140297  0.198441  \n",
       "6       0.360399      0.114069     0.360399        0.140297  0.198441  \n",
       "0       0.313058      0.012269     0.313058        0.098126  0.149385  \n",
       "7       0.313058      0.012269     0.313058        0.098126  0.149385  \n",
       "8       0.313058      0.012269     0.313058        0.098126  0.149385  "
      ]
     },
     "execution_count": 22,
     "metadata": {},
     "output_type": "execute_result"
    }
   ],
   "source": [
    "results"
   ]
  },
  {
   "cell_type": "markdown",
   "id": "03cf1d58-2668-43f5-8657-7eb52c7eb805",
   "metadata": {},
   "source": [
    "## Select model with the best performance"
   ]
  },
  {
   "cell_type": "code",
   "execution_count": 23,
   "id": "18d3a051-cc3e-41c8-9e29-7505024c23cd",
   "metadata": {},
   "outputs": [
    {
     "name": "stdout",
     "output_type": "stream",
     "text": [
      "Training selesai\n"
     ]
    }
   ],
   "source": [
    "tfidf_vect = TfidfVectorizer()\n",
    "X_train = tfidf_vect.fit_transform(X_train)\n",
    "\n",
    "model = MultinomialNB()\n",
    "model.fit(X_train, y_train)\n",
    "\n",
    "print(\"Training selesai\")\n",
    "\n",
    "pickle.dump(model, open(\"model.p\", 'wb'))"
   ]
  },
  {
   "cell_type": "code",
   "execution_count": 24,
   "id": "4051bb7d-0016-4aa7-9d54-eb551dd49c9c",
   "metadata": {},
   "outputs": [
    {
     "name": "stdout",
     "output_type": "stream",
     "text": [
      "Testing selesai\n",
      "              precision    recall  f1-score   support\n",
      "\n",
      "    negative       0.72      0.68      0.70       674\n",
      "     neutral       0.98      0.19      0.31       232\n",
      "    positive       0.80      0.95      0.87      1281\n",
      "\n",
      "    accuracy                           0.78      2187\n",
      "   macro avg       0.83      0.60      0.63      2187\n",
      "weighted avg       0.80      0.78      0.76      2187\n",
      "\n"
     ]
    }
   ],
   "source": [
    "X_test = tfidf_vect.transform(X_test)\n",
    "\n",
    "test = model.predict(X_test)\n",
    "print(\"Testing selesai\")\n",
    "print(classification_report(y_test, test))"
   ]
  },
  {
   "cell_type": "markdown",
   "id": "8aac2e8d-ead7-457d-bba9-8f75aca8273a",
   "metadata": {},
   "source": [
    "## Prediksi Data Baru"
   ]
  },
  {
   "cell_type": "code",
   "execution_count": 35,
   "id": "9b23c52d-a57d-44f6-91c2-b66480e3803f",
   "metadata": {},
   "outputs": [
    {
     "name": "stdout",
     "output_type": "stream",
     "text": [
      "Sentiment: positive\n"
     ]
    }
   ],
   "source": [
    "input_text = \"kasur bagus\"\n",
    "\n",
    "# normalize text\n",
    "text = tfidf_vect.transform([cleansing(input_text)])\n",
    "\n",
    "# predict data baru menggunakan model yang telah dibuat\n",
    "result = model.predict(text)[0]\n",
    "\n",
    "print(\"Sentiment:\", result)"
   ]
  },
  {
   "cell_type": "code",
   "execution_count": 26,
   "id": "52cefc4d-e381-4cc2-bebd-732fb4b8a550",
   "metadata": {},
   "outputs": [
    {
     "name": "stdout",
     "output_type": "stream",
     "text": [
      "Sentiment: positive\n"
     ]
    }
   ],
   "source": [
    "input_text = \"kamu hebat sekali\"\n",
    "\n",
    "# normalize text\n",
    "text = tfidf_vect.transform([cleansing(input_text)])\n",
    "\n",
    "# predict data baru menggunakan model yang telah dibuat\n",
    "result = model.predict(text)[0]\n",
    "\n",
    "print(\"Sentiment:\", result)"
   ]
  }
 ],
 "metadata": {
  "kernelspec": {
   "display_name": "Python 3 (ipykernel)",
   "language": "python",
   "name": "python3"
  },
  "language_info": {
   "codemirror_mode": {
    "name": "ipython",
    "version": 3
   },
   "file_extension": ".py",
   "mimetype": "text/x-python",
   "name": "python",
   "nbconvert_exporter": "python",
   "pygments_lexer": "ipython3",
   "version": "3.11.5"
  }
 },
 "nbformat": 4,
 "nbformat_minor": 5
}
