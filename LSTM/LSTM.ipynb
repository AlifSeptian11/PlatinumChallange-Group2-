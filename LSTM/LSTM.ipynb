{
 "cells": [
  {
   "cell_type": "code",
   "execution_count": 1,
   "id": "b67920ca-eca2-46be-8a10-7c5ae0407cb0",
   "metadata": {},
   "outputs": [
    {
     "name": "stdout",
     "output_type": "stream",
     "text": [
      "WARNING:tensorflow:From C:\\Users\\Reza Fakhrurrozi\\AppData\\Local\\Programs\\Python\\Python311\\Lib\\site-packages\\keras\\src\\losses.py:2976: The name tf.losses.sparse_softmax_cross_entropy is deprecated. Please use tf.compat.v1.losses.sparse_softmax_cross_entropy instead.\n",
      "\n"
     ]
    }
   ],
   "source": [
    "import pandas as pd\n",
    "import re\n",
    "import pickle\n",
    "import numpy as np\n",
    "import matplotlib.pyplot as plt\n",
    "import sqlite3 as sq\n",
    "\n",
    "from collections import defaultdict\n",
    "from sklearn import metrics\n",
    "from sklearn.model_selection import train_test_split, KFold\n",
    "from sklearn.metrics import classification_report, accuracy_score, confusion_matrix\n",
    "\n",
    "from tensorflow.keras import layers, optimizers\n",
    "from tensorflow.keras.models import Sequential, load_model\n",
    "from tensorflow.keras.layers import Dense, Embedding, LSTM, SpatialDropout1D, SimpleRNN, Activation, Flatten\n",
    "from tensorflow.keras.callbacks import EarlyStopping, TensorBoard\n",
    "from tensorflow.keras.preprocessing.text import Tokenizer\n",
    "from tensorflow.keras.preprocessing.sequence import pad_sequences\n",
    "from tensorflow.keras import backend as K"
   ]
  },
  {
   "cell_type": "markdown",
   "id": "6134fd58-7149-4864-a920-620b1137b3c3",
   "metadata": {},
   "source": [
    "# Prepare Dataset"
   ]
  },
  {
   "cell_type": "code",
   "execution_count": 2,
   "id": "f73bbb0b-bdae-4652-8a63-e6a182fc4f58",
   "metadata": {},
   "outputs": [
    {
     "data": {
      "text/html": [
       "<div>\n",
       "<style scoped>\n",
       "    .dataframe tbody tr th:only-of-type {\n",
       "        vertical-align: middle;\n",
       "    }\n",
       "\n",
       "    .dataframe tbody tr th {\n",
       "        vertical-align: top;\n",
       "    }\n",
       "\n",
       "    .dataframe thead th {\n",
       "        text-align: right;\n",
       "    }\n",
       "</style>\n",
       "<table border=\"1\" class=\"dataframe\">\n",
       "  <thead>\n",
       "    <tr style=\"text-align: right;\">\n",
       "      <th></th>\n",
       "      <th>Tweet</th>\n",
       "      <th>Label</th>\n",
       "    </tr>\n",
       "  </thead>\n",
       "  <tbody>\n",
       "    <tr>\n",
       "      <th>0</th>\n",
       "      <td>warung ini dimiliki oleh pengusaha pabrik tahu...</td>\n",
       "      <td>positive</td>\n",
       "    </tr>\n",
       "    <tr>\n",
       "      <th>1</th>\n",
       "      <td>mohon ulama lurus dan k212 mmbri hujjah partai...</td>\n",
       "      <td>neutral</td>\n",
       "    </tr>\n",
       "    <tr>\n",
       "      <th>2</th>\n",
       "      <td>lokasi strategis di jalan sumatra bandung temp...</td>\n",
       "      <td>positive</td>\n",
       "    </tr>\n",
       "    <tr>\n",
       "      <th>3</th>\n",
       "      <td>betapa bahagia nya diri ini saat unboxing pake...</td>\n",
       "      <td>positive</td>\n",
       "    </tr>\n",
       "    <tr>\n",
       "      <th>4</th>\n",
       "      <td>aduh jadi mahasiswa jangan sombong dong kasih ...</td>\n",
       "      <td>negative</td>\n",
       "    </tr>\n",
       "    <tr>\n",
       "      <th>5</th>\n",
       "      <td>makanan beragam harga makanan di food stall ak...</td>\n",
       "      <td>positive</td>\n",
       "    </tr>\n",
       "    <tr>\n",
       "      <th>6</th>\n",
       "      <td>pakai kartu kredit baca tidak untung malah rug...</td>\n",
       "      <td>negative</td>\n",
       "    </tr>\n",
       "    <tr>\n",
       "      <th>7</th>\n",
       "      <td>tempat unik bagus buat foto makanan enak pegaw...</td>\n",
       "      <td>positive</td>\n",
       "    </tr>\n",
       "    <tr>\n",
       "      <th>8</th>\n",
       "      <td>saya bersama keluarga baru saja menikmati peng...</td>\n",
       "      <td>positive</td>\n",
       "    </tr>\n",
       "    <tr>\n",
       "      <th>9</th>\n",
       "      <td>bersyukur</td>\n",
       "      <td>positive</td>\n",
       "    </tr>\n",
       "  </tbody>\n",
       "</table>\n",
       "</div>"
      ],
      "text/plain": [
       "                                               Tweet     Label\n",
       "0  warung ini dimiliki oleh pengusaha pabrik tahu...  positive\n",
       "1  mohon ulama lurus dan k212 mmbri hujjah partai...   neutral\n",
       "2  lokasi strategis di jalan sumatra bandung temp...  positive\n",
       "3  betapa bahagia nya diri ini saat unboxing pake...  positive\n",
       "4  aduh jadi mahasiswa jangan sombong dong kasih ...  negative\n",
       "5  makanan beragam harga makanan di food stall ak...  positive\n",
       "6  pakai kartu kredit baca tidak untung malah rug...  negative\n",
       "7  tempat unik bagus buat foto makanan enak pegaw...  positive\n",
       "8  saya bersama keluarga baru saja menikmati peng...  positive\n",
       "9                                          bersyukur  positive"
      ]
     },
     "execution_count": 2,
     "metadata": {},
     "output_type": "execute_result"
    }
   ],
   "source": [
    "conn = sq.connect('C:/Users/Reza Fakhrurrozi/Documents/GitHub/PlatinumChallange-Group2-/database_pl.db', check_same_thread = False)\n",
    "q_data = 'SELECT * FROM data'\n",
    "df = pd.read_sql_query(q_data, conn)\n",
    "df.head(10)"
   ]
  },
  {
   "cell_type": "code",
   "execution_count": 3,
   "id": "de57d19c-bdc5-4752-b935-b424081e7455",
   "metadata": {},
   "outputs": [
    {
     "data": {
      "text/plain": [
       "Label\n",
       "positive    6383\n",
       "negative    3412\n",
       "neutral     1138\n",
       "Name: count, dtype: int64"
      ]
     },
     "execution_count": 3,
     "metadata": {},
     "output_type": "execute_result"
    }
   ],
   "source": [
    "df['Label'].value_counts()"
   ]
  },
  {
   "cell_type": "markdown",
   "id": "9eba0a98-f2d3-4da5-a608-800e804c085f",
   "metadata": {},
   "source": [
    "# Feature Label Classification"
   ]
  },
  {
   "cell_type": "code",
   "execution_count": 4,
   "id": "9b01344f-6389-4035-b174-ed794ec3e9c1",
   "metadata": {},
   "outputs": [
    {
     "name": "stdout",
     "output_type": "stream",
     "text": [
      "Label\n",
      "positive    6383\n",
      "negative    3412\n",
      "neutral     3412\n",
      "Name: count, dtype: int64\n"
     ]
    }
   ],
   "source": [
    "# memfilter data berdasarkan label\n",
    "df_positive = df[df['Label'] == 'positive']\n",
    "df_negative = df[df['Label'] == 'negative']\n",
    "df_neutral = df[df['Label'] == 'neutral']\n",
    "\n",
    "# menyeimbangkan label netral dengan label negatif\n",
    "df_neutral_over = df_neutral.sample(df_negative.shape[0], replace=True)\n",
    "\n",
    "# menggabungkan semua data\n",
    "df = pd.concat([df_positive, df_negative, df_neutral_over])\n",
    "\n",
    "# mengecek kembali\n",
    "label_counts = df['Label'].value_counts()\n",
    "print(label_counts)"
   ]
  },
  {
   "cell_type": "code",
   "execution_count": 5,
   "id": "b1146ddb-b489-4c03-9f9e-bd7d288ca193",
   "metadata": {},
   "outputs": [
    {
     "name": "stdout",
     "output_type": "stream",
     "text": [
      "Positive: 6383, Negative: 3412, Neutral: 3412\n",
      "Total data: 13207\n",
      "Total labels: 13207\n"
     ]
    }
   ],
   "source": [
    "# Group data tweet\n",
    "positive_tweet = df.loc[df['Label']=='positive'].Tweet.tolist()\n",
    "negative_tweet = df.loc[df['Label']=='negative'].Tweet.tolist()\n",
    "neutral_tweet = df.loc[df['Label']=='neutral'].Tweet.tolist()\n",
    "\n",
    "# Group df label\n",
    "positive_label = df.loc[df['Label']=='positive'].Label.tolist()\n",
    "negative_label = df.loc[df['Label']=='negative'].Label.tolist()\n",
    "neutral_label = df.loc[df['Label']=='neutral'].Label.tolist()\n",
    "\n",
    "total_data = positive_tweet + negative_tweet + neutral_tweet\n",
    "labels = positive_label + negative_label + neutral_label\n",
    "\n",
    "print(\"Positive: %s, Negative: %s, Neutral: %s\" % (len(positive_tweet), len(neutral_tweet), len(negative_tweet)))\n",
    "print(\"Total data: %s\" % len(total_data))\n",
    "print(\"Total labels: %s\" % len(labels))"
   ]
  },
  {
   "cell_type": "markdown",
   "id": "165b960c-fe9f-411f-bb55-ab9ffc68b28e",
   "metadata": {},
   "source": [
    "# Feature Extraction"
   ]
  },
  {
   "cell_type": "code",
   "execution_count": 6,
   "id": "18aeba09-ef1b-4731-a04e-1f19bda4bc68",
   "metadata": {},
   "outputs": [
    {
     "name": "stdout",
     "output_type": "stream",
     "text": [
      "tokenizer.pickle has created!\n",
      "x_pad_sequences.pickle has created!\n"
     ]
    }
   ],
   "source": [
    "max_features = 5000\n",
    "tokenizer = Tokenizer(num_words=max_features, split=' ', lower=True)\n",
    "tokenizer.fit_on_texts(total_data)\n",
    "with open('tokenizer.pickle', 'wb') as handle:\n",
    "    pickle.dump(tokenizer, handle, protocol=pickle.HIGHEST_PROTOCOL)\n",
    "    print(\"tokenizer.pickle has created!\")\n",
    "\n",
    "X = tokenizer.texts_to_sequences(total_data)\n",
    "\n",
    "vocab_size = len(tokenizer.word_index)\n",
    "maxlen = max(len(x) for x in X)\n",
    "\n",
    "X = pad_sequences(X)\n",
    "with open('x_pad_sequences.pickle', 'wb') as handle:\n",
    "    pickle.dump(X, handle, protocol=pickle.HIGHEST_PROTOCOL)\n",
    "    print(\"x_pad_sequences.pickle has created!\")"
   ]
  },
  {
   "cell_type": "code",
   "execution_count": 7,
   "id": "b1b20f86-7978-466c-b0c4-655f64ddc915",
   "metadata": {},
   "outputs": [
    {
     "name": "stdout",
     "output_type": "stream",
     "text": [
      "y_labels.pickle has created!\n"
     ]
    }
   ],
   "source": [
    "Y = pd.get_dummies(labels)\n",
    "Y = Y.values\n",
    "\n",
    "with open('y_labels.pickle', 'wb') as handle:\n",
    "    pickle.dump(Y, handle, protocol=pickle.HIGHEST_PROTOCOL)\n",
    "    print(\"y_labels.pickle has created!\")"
   ]
  },
  {
   "cell_type": "code",
   "execution_count": 8,
   "id": "2df9492b-1039-4260-b130-54c8a764df30",
   "metadata": {},
   "outputs": [],
   "source": [
    "file = open(\"C:/Users/Reza Fakhrurrozi/Documents/GitHub/PlatinumChallange-Group2-/LSTM/x_pad_sequences.pickle\",'rb')\n",
    "X = pickle.load(file)\n",
    "file.close()\n",
    "\n",
    "file = open(\"C:/Users/Reza Fakhrurrozi/Documents/GitHub/PlatinumChallange-Group2-/LSTM/y_labels.pickle\",'rb')\n",
    "Y = pickle.load(file)\n",
    "file.close()\n",
    "\n",
    "X_train, X_test, y_train, y_test = train_test_split(X, Y, test_size=0.2, random_state=42)"
   ]
  },
  {
   "cell_type": "markdown",
   "id": "6b378dfa-bf56-4e04-bbad-7a06e15700c8",
   "metadata": {},
   "source": [
    "# Model Training, Model Evaluation, Cross Validation"
   ]
  },
  {
   "cell_type": "code",
   "execution_count": 10,
   "id": "8ecd8ba6-5787-4552-8aba-7b86608a785a",
   "metadata": {},
   "outputs": [
    {
     "name": "stdout",
     "output_type": "stream",
     "text": [
      "WARNING:tensorflow:From C:\\Users\\Reza Fakhrurrozi\\AppData\\Local\\Programs\\Python\\Python311\\Lib\\site-packages\\keras\\src\\backend.py:873: The name tf.get_default_graph is deprecated. Please use tf.compat.v1.get_default_graph instead.\n",
      "\n",
      "WARNING:tensorflow:From C:\\Users\\Reza Fakhrurrozi\\AppData\\Local\\Programs\\Python\\Python311\\Lib\\site-packages\\keras\\src\\optimizers\\__init__.py:309: The name tf.train.Optimizer is deprecated. Please use tf.compat.v1.train.Optimizer instead.\n",
      "\n",
      "Model: \"sequential\"\n",
      "_________________________________________________________________\n",
      " Layer (type)                Output Shape              Param #   \n",
      "=================================================================\n",
      " embedding (Embedding)       (None, 87, 200)           1000000   \n",
      "                                                                 \n",
      " lstm (LSTM)                 (None, 64)                67840     \n",
      "                                                                 \n",
      " dense (Dense)               (None, 3)                 195       \n",
      "                                                                 \n",
      "=================================================================\n",
      "Total params: 1068035 (4.07 MB)\n",
      "Trainable params: 1068035 (4.07 MB)\n",
      "Non-trainable params: 0 (0.00 Byte)\n",
      "_________________________________________________________________\n"
     ]
    },
    {
     "name": "stderr",
     "output_type": "stream",
     "text": [
      "WARNING:absl:`lr` is deprecated in Keras optimizer, please use `learning_rate` or use the legacy optimizer, e.g.,tf.keras.optimizers.legacy.Adam.\n"
     ]
    },
    {
     "name": "stdout",
     "output_type": "stream",
     "text": [
      "None\n",
      "Epoch 1/50\n",
      "WARNING:tensorflow:From C:\\Users\\Reza Fakhrurrozi\\AppData\\Local\\Programs\\Python\\Python311\\Lib\\site-packages\\keras\\src\\utils\\tf_utils.py:492: The name tf.ragged.RaggedTensorValue is deprecated. Please use tf.compat.v1.ragged.RaggedTensorValue instead.\n",
      "\n"
     ]
    },
    {
     "name": "stderr",
     "output_type": "stream",
     "text": [
      "WARNING:tensorflow:From C:\\Users\\Reza Fakhrurrozi\\AppData\\Local\\Programs\\Python\\Python311\\Lib\\site-packages\\keras\\src\\utils\\tf_utils.py:492: The name tf.ragged.RaggedTensorValue is deprecated. Please use tf.compat.v1.ragged.RaggedTensorValue instead.\n",
      "\n"
     ]
    },
    {
     "name": "stdout",
     "output_type": "stream",
     "text": [
      "WARNING:tensorflow:From C:\\Users\\Reza Fakhrurrozi\\AppData\\Local\\Programs\\Python\\Python311\\Lib\\site-packages\\keras\\src\\engine\\base_layer_utils.py:384: The name tf.executing_eagerly_outside_functions is deprecated. Please use tf.compat.v1.executing_eagerly_outside_functions instead.\n",
      "\n"
     ]
    },
    {
     "name": "stderr",
     "output_type": "stream",
     "text": [
      "WARNING:tensorflow:From C:\\Users\\Reza Fakhrurrozi\\AppData\\Local\\Programs\\Python\\Python311\\Lib\\site-packages\\keras\\src\\engine\\base_layer_utils.py:384: The name tf.executing_eagerly_outside_functions is deprecated. Please use tf.compat.v1.executing_eagerly_outside_functions instead.\n",
      "\n"
     ]
    },
    {
     "name": "stdout",
     "output_type": "stream",
     "text": [
      "331/331 [==============================] - 30s 76ms/step - loss: 0.5459 - accuracy: 0.7782 - val_loss: 0.3394 - val_accuracy: 0.8789\n",
      "Epoch 2/50\n",
      "331/331 [==============================] - 24s 72ms/step - loss: 0.2761 - accuracy: 0.8963 - val_loss: 0.2527 - val_accuracy: 0.9122\n",
      "Epoch 3/50\n",
      "331/331 [==============================] - 24s 73ms/step - loss: 0.2000 - accuracy: 0.9275 - val_loss: 0.2290 - val_accuracy: 0.9095\n",
      "Epoch 4/50\n",
      "331/331 [==============================] - 24s 73ms/step - loss: 0.1669 - accuracy: 0.9388 - val_loss: 0.2226 - val_accuracy: 0.9122\n",
      "Epoch 5/50\n",
      "331/331 [==============================] - 25s 77ms/step - loss: 0.1446 - accuracy: 0.9475 - val_loss: 0.2391 - val_accuracy: 0.9046\n",
      "Epoch 5: early stopping\n"
     ]
    }
   ],
   "source": [
    "embed_dim = 200\n",
    "units = 64\n",
    "\n",
    "model = Sequential()\n",
    "model.add(Embedding(max_features, embed_dim, input_length=X.shape[1]))\n",
    "model.add(LSTM(units, dropout=0.8))\n",
    "model.add(Dense(3,activation='softmax'))\n",
    "model.compile(loss = 'binary_crossentropy', optimizer='adam', metrics = ['accuracy'])\n",
    "print(model.summary())\n",
    "\n",
    "adam = optimizers.Adam(lr = 0.00005)\n",
    "model.compile(loss = 'categorical_crossentropy', optimizer = adam, metrics = ['accuracy'])\n",
    "\n",
    "es = EarlyStopping(monitor='val_loss', mode='min', verbose=1)\n",
    "history = model.fit(X_train, y_train, epochs=50, batch_size=32, validation_data=(X_test, y_test), verbose=1, callbacks=[es])"
   ]
  },
  {
   "cell_type": "code",
   "execution_count": 11,
   "id": "01b3b171-f6c1-44fe-9ede-07963e3d7ff6",
   "metadata": {},
   "outputs": [
    {
     "name": "stdout",
     "output_type": "stream",
     "text": [
      "83/83 [==============================] - 3s 21ms/step\n",
      "Testing selesai\n",
      "              precision    recall  f1-score   support\n",
      "\n",
      "           0       0.89      0.78      0.83       709\n",
      "           1       0.92      0.98      0.95       662\n",
      "           2       0.90      0.93      0.92      1271\n",
      "\n",
      "    accuracy                           0.90      2642\n",
      "   macro avg       0.90      0.90      0.90      2642\n",
      "weighted avg       0.90      0.90      0.90      2642\n",
      "\n"
     ]
    }
   ],
   "source": [
    "predictions = model.predict(X_test)\n",
    "y_pred = predictions\n",
    "matrix_test = metrics.classification_report(y_test.argmax(axis=1), y_pred.argmax(axis=1))\n",
    "print(\"Testing selesai\")\n",
    "print(matrix_test)"
   ]
  },
  {
   "cell_type": "code",
   "execution_count": 12,
   "id": "47967326-35b0-48de-b753-145cad8ddb33",
   "metadata": {},
   "outputs": [
    {
     "name": "stdout",
     "output_type": "stream",
     "text": [
      "Epoch 1/50\n",
      "331/331 [==============================] - 33s 78ms/step - loss: 0.9860 - accuracy: 0.5812 - val_loss: 0.7994 - val_accuracy: 0.6525\n",
      "Epoch 2/50\n",
      "331/331 [==============================] - 24s 72ms/step - loss: 0.7474 - accuracy: 0.6684 - val_loss: 0.7109 - val_accuracy: 0.6692\n",
      "Epoch 3/50\n",
      "331/331 [==============================] - 24s 72ms/step - loss: 0.6823 - accuracy: 0.6837 - val_loss: 0.6581 - val_accuracy: 0.6805\n",
      "Epoch 4/50\n",
      "331/331 [==============================] - 24s 73ms/step - loss: 0.6332 - accuracy: 0.6992 - val_loss: 0.6134 - val_accuracy: 0.6919\n",
      "Epoch 5/50\n",
      "331/331 [==============================] - 24s 74ms/step - loss: 0.5916 - accuracy: 0.7204 - val_loss: 0.5703 - val_accuracy: 0.7184\n",
      "Epoch 6/50\n",
      "331/331 [==============================] - 25s 76ms/step - loss: 0.5536 - accuracy: 0.7638 - val_loss: 0.5216 - val_accuracy: 0.7752\n",
      "Epoch 7/50\n",
      "331/331 [==============================] - 24s 72ms/step - loss: 0.5002 - accuracy: 0.8062 - val_loss: 0.4604 - val_accuracy: 0.8289\n",
      "Epoch 8/50\n",
      "331/331 [==============================] - 24s 72ms/step - loss: 0.4438 - accuracy: 0.8330 - val_loss: 0.4150 - val_accuracy: 0.8372\n",
      "Epoch 9/50\n",
      "331/331 [==============================] - 24s 73ms/step - loss: 0.4107 - accuracy: 0.8449 - val_loss: 0.3851 - val_accuracy: 0.8615\n",
      "Epoch 10/50\n",
      "331/331 [==============================] - 24s 72ms/step - loss: 0.3843 - accuracy: 0.8591 - val_loss: 0.3736 - val_accuracy: 0.8645\n",
      "Epoch 11/50\n",
      "331/331 [==============================] - 24s 72ms/step - loss: 0.3599 - accuracy: 0.8663 - val_loss: 0.3483 - val_accuracy: 0.8770\n",
      "Epoch 12/50\n",
      "331/331 [==============================] - 24s 72ms/step - loss: 0.3387 - accuracy: 0.8776 - val_loss: 0.3298 - val_accuracy: 0.8827\n",
      "Epoch 13/50\n",
      "331/331 [==============================] - 24s 72ms/step - loss: 0.3208 - accuracy: 0.8849 - val_loss: 0.3173 - val_accuracy: 0.8834\n",
      "Epoch 14/50\n",
      "331/331 [==============================] - 24s 73ms/step - loss: 0.3048 - accuracy: 0.8928 - val_loss: 0.3099 - val_accuracy: 0.8883\n",
      "Epoch 15/50\n",
      "331/331 [==============================] - 24s 71ms/step - loss: 0.2903 - accuracy: 0.8965 - val_loss: 0.2985 - val_accuracy: 0.8899\n",
      "Epoch 16/50\n",
      "331/331 [==============================] - 23s 71ms/step - loss: 0.2788 - accuracy: 0.8987 - val_loss: 0.2890 - val_accuracy: 0.8936\n",
      "Epoch 17/50\n",
      "331/331 [==============================] - 23s 71ms/step - loss: 0.2674 - accuracy: 0.9045 - val_loss: 0.2865 - val_accuracy: 0.8936\n",
      "Epoch 18/50\n",
      "331/331 [==============================] - 23s 70ms/step - loss: 0.2567 - accuracy: 0.9091 - val_loss: 0.2759 - val_accuracy: 0.8963\n",
      "Epoch 19/50\n",
      "331/331 [==============================] - 23s 69ms/step - loss: 0.2463 - accuracy: 0.9106 - val_loss: 0.2724 - val_accuracy: 0.8974\n",
      "Epoch 20/50\n",
      "331/331 [==============================] - 23s 70ms/step - loss: 0.2363 - accuracy: 0.9177 - val_loss: 0.2661 - val_accuracy: 0.8974\n",
      "Epoch 21/50\n",
      "331/331 [==============================] - 23s 70ms/step - loss: 0.2282 - accuracy: 0.9196 - val_loss: 0.2678 - val_accuracy: 0.9046\n",
      "Epoch 21: early stopping\n",
      "83/83 [==============================] - 3s 21ms/step\n",
      "Training ke- 1\n",
      "              precision    recall  f1-score   support\n",
      "\n",
      "           0       0.85      0.83      0.84       709\n",
      "           1       0.93      0.96      0.94       662\n",
      "           2       0.92      0.92      0.92      1271\n",
      "\n",
      "    accuracy                           0.90      2642\n",
      "   macro avg       0.90      0.90      0.90      2642\n",
      "weighted avg       0.90      0.90      0.90      2642\n",
      "\n",
      "======================================================\n",
      "Epoch 1/50\n",
      "331/331 [==============================] - 31s 76ms/step - loss: 0.9871 - accuracy: 0.5683 - val_loss: 0.8077 - val_accuracy: 0.6529\n",
      "Epoch 2/50\n",
      "331/331 [==============================] - 24s 72ms/step - loss: 0.7566 - accuracy: 0.6699 - val_loss: 0.7181 - val_accuracy: 0.6692\n",
      "Epoch 3/50\n",
      "331/331 [==============================] - 25s 76ms/step - loss: 0.6940 - accuracy: 0.6836 - val_loss: 0.6677 - val_accuracy: 0.6809\n",
      "Epoch 4/50\n",
      "331/331 [==============================] - 24s 72ms/step - loss: 0.6511 - accuracy: 0.6990 - val_loss: 0.6299 - val_accuracy: 0.6923\n",
      "Epoch 5/50\n",
      "331/331 [==============================] - 25s 75ms/step - loss: 0.6100 - accuracy: 0.7254 - val_loss: 0.5815 - val_accuracy: 0.7286\n",
      "Epoch 6/50\n",
      "331/331 [==============================] - 24s 74ms/step - loss: 0.5560 - accuracy: 0.7744 - val_loss: 0.5116 - val_accuracy: 0.8221\n",
      "Epoch 7/50\n",
      "331/331 [==============================] - 25s 75ms/step - loss: 0.4894 - accuracy: 0.8158 - val_loss: 0.4415 - val_accuracy: 0.8558\n",
      "Epoch 8/50\n",
      "331/331 [==============================] - 24s 73ms/step - loss: 0.4390 - accuracy: 0.8388 - val_loss: 0.4030 - val_accuracy: 0.8660\n",
      "Epoch 9/50\n",
      "331/331 [==============================] - 24s 73ms/step - loss: 0.4021 - accuracy: 0.8510 - val_loss: 0.3714 - val_accuracy: 0.8706\n",
      "Epoch 10/50\n",
      "331/331 [==============================] - 25s 75ms/step - loss: 0.3702 - accuracy: 0.8613 - val_loss: 0.3532 - val_accuracy: 0.8785\n",
      "Epoch 11/50\n",
      "331/331 [==============================] - 24s 73ms/step - loss: 0.3487 - accuracy: 0.8735 - val_loss: 0.3389 - val_accuracy: 0.8781\n",
      "Epoch 12/50\n",
      "331/331 [==============================] - 24s 73ms/step - loss: 0.3280 - accuracy: 0.8802 - val_loss: 0.3198 - val_accuracy: 0.8838\n",
      "Epoch 13/50\n",
      "331/331 [==============================] - 24s 74ms/step - loss: 0.3175 - accuracy: 0.8832 - val_loss: 0.3115 - val_accuracy: 0.8864\n",
      "Epoch 14/50\n",
      "331/331 [==============================] - 24s 73ms/step - loss: 0.2971 - accuracy: 0.8916 - val_loss: 0.3044 - val_accuracy: 0.8846\n",
      "Epoch 15/50\n",
      "331/331 [==============================] - 25s 75ms/step - loss: 0.2846 - accuracy: 0.8965 - val_loss: 0.2970 - val_accuracy: 0.8921\n",
      "Epoch 16/50\n",
      "331/331 [==============================] - 26s 78ms/step - loss: 0.2743 - accuracy: 0.9003 - val_loss: 0.2848 - val_accuracy: 0.8925\n",
      "Epoch 17/50\n",
      "331/331 [==============================] - 25s 75ms/step - loss: 0.2627 - accuracy: 0.9071 - val_loss: 0.2813 - val_accuracy: 0.8936\n",
      "Epoch 18/50\n",
      "331/331 [==============================] - 25s 74ms/step - loss: 0.2501 - accuracy: 0.9076 - val_loss: 0.2749 - val_accuracy: 0.8933\n",
      "Epoch 19/50\n",
      "331/331 [==============================] - 24s 73ms/step - loss: 0.2465 - accuracy: 0.9118 - val_loss: 0.2714 - val_accuracy: 0.8944\n",
      "Epoch 20/50\n",
      "331/331 [==============================] - 24s 72ms/step - loss: 0.2349 - accuracy: 0.9146 - val_loss: 0.2636 - val_accuracy: 0.8989\n",
      "Epoch 21/50\n",
      "331/331 [==============================] - 24s 72ms/step - loss: 0.2218 - accuracy: 0.9223 - val_loss: 0.2615 - val_accuracy: 0.9023\n",
      "Epoch 22/50\n",
      "331/331 [==============================] - 24s 74ms/step - loss: 0.2150 - accuracy: 0.9237 - val_loss: 0.2571 - val_accuracy: 0.9023\n",
      "Epoch 23/50\n",
      "331/331 [==============================] - 24s 73ms/step - loss: 0.2175 - accuracy: 0.9228 - val_loss: 0.2622 - val_accuracy: 0.9008\n",
      "Epoch 23: early stopping\n",
      "83/83 [==============================] - 3s 22ms/step\n",
      "Training ke- 2\n",
      "              precision    recall  f1-score   support\n",
      "\n",
      "           0       0.84      0.82      0.83       709\n",
      "           1       0.91      0.97      0.94       662\n",
      "           2       0.93      0.91      0.92      1271\n",
      "\n",
      "    accuracy                           0.90      2642\n",
      "   macro avg       0.89      0.90      0.90      2642\n",
      "weighted avg       0.90      0.90      0.90      2642\n",
      "\n",
      "======================================================\n",
      "Epoch 1/50\n",
      "331/331 [==============================] - 30s 77ms/step - loss: 0.9866 - accuracy: 0.5763 - val_loss: 0.8009 - val_accuracy: 0.6544\n",
      "Epoch 2/50\n",
      "331/331 [==============================] - 25s 76ms/step - loss: 0.7525 - accuracy: 0.6673 - val_loss: 0.7164 - val_accuracy: 0.6662\n",
      "Epoch 3/50\n",
      "331/331 [==============================] - 24s 71ms/step - loss: 0.6932 - accuracy: 0.6841 - val_loss: 0.6652 - val_accuracy: 0.6821\n",
      "Epoch 4/50\n",
      "331/331 [==============================] - 24s 74ms/step - loss: 0.6467 - accuracy: 0.7025 - val_loss: 0.6173 - val_accuracy: 0.7078\n",
      "Epoch 5/50\n",
      "331/331 [==============================] - 24s 73ms/step - loss: 0.5959 - accuracy: 0.7394 - val_loss: 0.5622 - val_accuracy: 0.7808\n",
      "Epoch 6/50\n",
      "331/331 [==============================] - 24s 72ms/step - loss: 0.5395 - accuracy: 0.7943 - val_loss: 0.4951 - val_accuracy: 0.8327\n",
      "Epoch 7/50\n",
      "331/331 [==============================] - 24s 72ms/step - loss: 0.4799 - accuracy: 0.8223 - val_loss: 0.4328 - val_accuracy: 0.8600\n",
      "Epoch 8/50\n",
      "331/331 [==============================] - 24s 72ms/step - loss: 0.4312 - accuracy: 0.8398 - val_loss: 0.3961 - val_accuracy: 0.8702\n",
      "Epoch 9/50\n",
      "331/331 [==============================] - 24s 72ms/step - loss: 0.4010 - accuracy: 0.8540 - val_loss: 0.3733 - val_accuracy: 0.8724\n",
      "Epoch 10/50\n",
      "331/331 [==============================] - 25s 76ms/step - loss: 0.3707 - accuracy: 0.8646 - val_loss: 0.3525 - val_accuracy: 0.8743\n",
      "Epoch 11/50\n",
      "331/331 [==============================] - 25s 74ms/step - loss: 0.3508 - accuracy: 0.8731 - val_loss: 0.3343 - val_accuracy: 0.8800\n",
      "Epoch 12/50\n",
      "331/331 [==============================] - 24s 73ms/step - loss: 0.3312 - accuracy: 0.8786 - val_loss: 0.3180 - val_accuracy: 0.8899\n",
      "Epoch 13/50\n",
      "331/331 [==============================] - 24s 73ms/step - loss: 0.3113 - accuracy: 0.8876 - val_loss: 0.3067 - val_accuracy: 0.8895\n",
      "Epoch 14/50\n",
      "331/331 [==============================] - 24s 72ms/step - loss: 0.3043 - accuracy: 0.8889 - val_loss: 0.3025 - val_accuracy: 0.8933\n",
      "Epoch 15/50\n",
      "331/331 [==============================] - 25s 75ms/step - loss: 0.2878 - accuracy: 0.8960 - val_loss: 0.2869 - val_accuracy: 0.8914\n",
      "Epoch 16/50\n",
      "331/331 [==============================] - 25s 74ms/step - loss: 0.2706 - accuracy: 0.9018 - val_loss: 0.2814 - val_accuracy: 0.8970\n",
      "Epoch 17/50\n",
      "331/331 [==============================] - 24s 73ms/step - loss: 0.2639 - accuracy: 0.9040 - val_loss: 0.2752 - val_accuracy: 0.8967\n",
      "Epoch 18/50\n",
      "331/331 [==============================] - 24s 73ms/step - loss: 0.2502 - accuracy: 0.9107 - val_loss: 0.2721 - val_accuracy: 0.9016\n",
      "Epoch 19/50\n",
      "331/331 [==============================] - 23s 71ms/step - loss: 0.2468 - accuracy: 0.9104 - val_loss: 0.2636 - val_accuracy: 0.9005\n",
      "Epoch 20/50\n",
      "331/331 [==============================] - 23s 71ms/step - loss: 0.2360 - accuracy: 0.9145 - val_loss: 0.2654 - val_accuracy: 0.9035\n",
      "Epoch 20: early stopping\n",
      "83/83 [==============================] - 3s 22ms/step\n",
      "Training ke- 3\n",
      "              precision    recall  f1-score   support\n",
      "\n",
      "           0       0.84      0.84      0.84       709\n",
      "           1       0.93      0.96      0.94       662\n",
      "           2       0.92      0.91      0.92      1271\n",
      "\n",
      "    accuracy                           0.90      2642\n",
      "   macro avg       0.90      0.90      0.90      2642\n",
      "weighted avg       0.90      0.90      0.90      2642\n",
      "\n",
      "======================================================\n",
      "Epoch 1/50\n",
      "331/331 [==============================] - 34s 89ms/step - loss: 1.0175 - accuracy: 0.5238 - val_loss: 0.8299 - val_accuracy: 0.6488\n",
      "Epoch 2/50\n",
      "331/331 [==============================] - 27s 83ms/step - loss: 0.7687 - accuracy: 0.6681 - val_loss: 0.7225 - val_accuracy: 0.6673\n",
      "Epoch 3/50\n",
      "331/331 [==============================] - 27s 82ms/step - loss: 0.6943 - accuracy: 0.6838 - val_loss: 0.6700 - val_accuracy: 0.6802\n",
      "Epoch 4/50\n",
      "331/331 [==============================] - 27s 83ms/step - loss: 0.6529 - accuracy: 0.6966 - val_loss: 0.6271 - val_accuracy: 0.6927\n",
      "Epoch 5/50\n",
      "331/331 [==============================] - 28s 84ms/step - loss: 0.6079 - accuracy: 0.7150 - val_loss: 0.5814 - val_accuracy: 0.7316\n",
      "Epoch 6/50\n",
      "331/331 [==============================] - 29s 88ms/step - loss: 0.5641 - accuracy: 0.7617 - val_loss: 0.5297 - val_accuracy: 0.7831\n",
      "Epoch 7/50\n",
      "331/331 [==============================] - 27s 83ms/step - loss: 0.5042 - accuracy: 0.8063 - val_loss: 0.4542 - val_accuracy: 0.8437\n",
      "Epoch 8/50\n",
      "331/331 [==============================] - 28s 83ms/step - loss: 0.4459 - accuracy: 0.8329 - val_loss: 0.4088 - val_accuracy: 0.8520\n",
      "Epoch 9/50\n",
      "331/331 [==============================] - 27s 81ms/step - loss: 0.4055 - accuracy: 0.8478 - val_loss: 0.3775 - val_accuracy: 0.8687\n",
      "Epoch 10/50\n",
      "331/331 [==============================] - 26s 80ms/step - loss: 0.3752 - accuracy: 0.8585 - val_loss: 0.3554 - val_accuracy: 0.8713\n",
      "Epoch 11/50\n",
      "331/331 [==============================] - 26s 80ms/step - loss: 0.3524 - accuracy: 0.8718 - val_loss: 0.3365 - val_accuracy: 0.8796\n",
      "Epoch 12/50\n",
      "331/331 [==============================] - 27s 81ms/step - loss: 0.3289 - accuracy: 0.8812 - val_loss: 0.3210 - val_accuracy: 0.8849\n",
      "Epoch 13/50\n",
      "331/331 [==============================] - 26s 79ms/step - loss: 0.3139 - accuracy: 0.8892 - val_loss: 0.3096 - val_accuracy: 0.8914\n",
      "Epoch 14/50\n",
      "331/331 [==============================] - 27s 82ms/step - loss: 0.2980 - accuracy: 0.8921 - val_loss: 0.2990 - val_accuracy: 0.8902\n",
      "Epoch 15/50\n",
      "331/331 [==============================] - 28s 83ms/step - loss: 0.2837 - accuracy: 0.8983 - val_loss: 0.2899 - val_accuracy: 0.8925\n",
      "Epoch 16/50\n",
      "331/331 [==============================] - 27s 80ms/step - loss: 0.2714 - accuracy: 0.9001 - val_loss: 0.2814 - val_accuracy: 0.8959\n",
      "Epoch 17/50\n",
      "331/331 [==============================] - 27s 82ms/step - loss: 0.2600 - accuracy: 0.9067 - val_loss: 0.2755 - val_accuracy: 0.8986\n",
      "Epoch 18/50\n",
      "331/331 [==============================] - 26s 79ms/step - loss: 0.2517 - accuracy: 0.9111 - val_loss: 0.2723 - val_accuracy: 0.8989\n",
      "Epoch 19/50\n",
      "331/331 [==============================] - 27s 82ms/step - loss: 0.2421 - accuracy: 0.9129 - val_loss: 0.2674 - val_accuracy: 0.8993\n",
      "Epoch 20/50\n",
      "331/331 [==============================] - 26s 79ms/step - loss: 0.2312 - accuracy: 0.9162 - val_loss: 0.2674 - val_accuracy: 0.9001\n",
      "Epoch 21/50\n",
      "331/331 [==============================] - 26s 80ms/step - loss: 0.2197 - accuracy: 0.9236 - val_loss: 0.2565 - val_accuracy: 0.9035\n",
      "Epoch 22/50\n",
      "331/331 [==============================] - 26s 80ms/step - loss: 0.2170 - accuracy: 0.9233 - val_loss: 0.2553 - val_accuracy: 0.9035\n",
      "Epoch 23/50\n",
      "331/331 [==============================] - 27s 83ms/step - loss: 0.2053 - accuracy: 0.9265 - val_loss: 0.2494 - val_accuracy: 0.9039\n",
      "Epoch 24/50\n",
      "331/331 [==============================] - 28s 83ms/step - loss: 0.1982 - accuracy: 0.9301 - val_loss: 0.2685 - val_accuracy: 0.9058\n",
      "Epoch 24: early stopping\n",
      "83/83 [==============================] - 3s 23ms/step\n",
      "Training ke- 4\n",
      "              precision    recall  f1-score   support\n",
      "\n",
      "           0       0.86      0.83      0.84       709\n",
      "           1       0.92      0.96      0.94       662\n",
      "           2       0.92      0.92      0.92      1271\n",
      "\n",
      "    accuracy                           0.91      2642\n",
      "   macro avg       0.90      0.90      0.90      2642\n",
      "weighted avg       0.91      0.91      0.91      2642\n",
      "\n",
      "======================================================\n",
      "Epoch 1/50\n",
      "331/331 [==============================] - 31s 82ms/step - loss: 0.9920 - accuracy: 0.5685 - val_loss: 0.7859 - val_accuracy: 0.6590\n",
      "Epoch 2/50\n",
      "331/331 [==============================] - 24s 74ms/step - loss: 0.7476 - accuracy: 0.6726 - val_loss: 0.7106 - val_accuracy: 0.6790\n",
      "Epoch 3/50\n",
      "331/331 [==============================] - 24s 74ms/step - loss: 0.6926 - accuracy: 0.6924 - val_loss: 0.6680 - val_accuracy: 0.6889\n",
      "Epoch 4/50\n",
      "331/331 [==============================] - 24s 73ms/step - loss: 0.6484 - accuracy: 0.7135 - val_loss: 0.6135 - val_accuracy: 0.7260\n",
      "Epoch 5/50\n",
      "331/331 [==============================] - 24s 73ms/step - loss: 0.5993 - accuracy: 0.7461 - val_loss: 0.5605 - val_accuracy: 0.7786\n",
      "Epoch 6/50\n",
      "331/331 [==============================] - 24s 73ms/step - loss: 0.5472 - accuracy: 0.7856 - val_loss: 0.5066 - val_accuracy: 0.8221\n",
      "Epoch 7/50\n",
      "331/331 [==============================] - 24s 74ms/step - loss: 0.4925 - accuracy: 0.8129 - val_loss: 0.4578 - val_accuracy: 0.8403\n",
      "Epoch 8/50\n",
      "331/331 [==============================] - 25s 77ms/step - loss: 0.4540 - accuracy: 0.8302 - val_loss: 0.4121 - val_accuracy: 0.8581\n",
      "Epoch 9/50\n",
      "331/331 [==============================] - 26s 78ms/step - loss: 0.4111 - accuracy: 0.8468 - val_loss: 0.3888 - val_accuracy: 0.8535\n",
      "Epoch 10/50\n",
      "331/331 [==============================] - 24s 74ms/step - loss: 0.3860 - accuracy: 0.8524 - val_loss: 0.3609 - val_accuracy: 0.8724\n",
      "Epoch 11/50\n",
      "331/331 [==============================] - 24s 74ms/step - loss: 0.3630 - accuracy: 0.8655 - val_loss: 0.3399 - val_accuracy: 0.8796\n",
      "Epoch 12/50\n",
      "331/331 [==============================] - 25s 76ms/step - loss: 0.3440 - accuracy: 0.8699 - val_loss: 0.3256 - val_accuracy: 0.8812\n",
      "Epoch 13/50\n",
      "331/331 [==============================] - 24s 74ms/step - loss: 0.3261 - accuracy: 0.8811 - val_loss: 0.3116 - val_accuracy: 0.8808\n",
      "Epoch 14/50\n",
      "331/331 [==============================] - 24s 73ms/step - loss: 0.3110 - accuracy: 0.8835 - val_loss: 0.3123 - val_accuracy: 0.8887\n",
      "Epoch 14: early stopping\n",
      "83/83 [==============================] - 3s 22ms/step\n",
      "Training ke- 5\n",
      "              precision    recall  f1-score   support\n",
      "\n",
      "           0       0.82      0.80      0.81       709\n",
      "           1       0.90      0.96      0.93       662\n",
      "           2       0.92      0.90      0.91      1271\n",
      "\n",
      "    accuracy                           0.89      2642\n",
      "   macro avg       0.88      0.89      0.88      2642\n",
      "weighted avg       0.89      0.89      0.89      2642\n",
      "\n",
      "======================================================\n",
      "\n",
      "\n",
      "\n",
      "Rata-rata Accuracy:  0.9006813020439062\n"
     ]
    }
   ],
   "source": [
    "kf = KFold(n_splits=5, random_state=42, shuffle=True)\n",
    "\n",
    "accuracies = []\n",
    "\n",
    "y = Y\n",
    "\n",
    "embed_dim = 200\n",
    "units = 64\n",
    "\n",
    "for iteration, data in enumerate(kf.split(X), start=1):\n",
    "\n",
    "    data_train   = X[data[0]]\n",
    "    target_train = y[data[0]]\n",
    "\n",
    "    data_test    = X[data[1]]\n",
    "    target_test  = y[data[1]]\n",
    "\n",
    "    model = Sequential()\n",
    "    model.add(Embedding(max_features, embed_dim, input_length=X.shape[1]))\n",
    "    model.add(LSTM(units, dropout=0.8))\n",
    "    model.add(Dense(3,activation='softmax'))\n",
    "    model.compile(loss = 'binary_crossentropy', optimizer='adam', metrics = ['accuracy'])\n",
    "\n",
    "    adam = optimizers.Adam(learning_rate = 0.00005)\n",
    "    model.compile(loss = 'categorical_crossentropy', optimizer=adam, metrics = ['accuracy'])\n",
    "\n",
    "    es = EarlyStopping(monitor='val_loss', mode='min', verbose=1)\n",
    "    history = model.fit(X_train, y_train, epochs=50, batch_size=32, validation_data=(X_test, y_test), verbose=1, callbacks=[es])\n",
    "\n",
    "    predictions = model.predict(X_test)\n",
    "    y_pred = predictions\n",
    "    \n",
    "    accuracy = accuracy_score(y_test.argmax(axis=1), y_pred.argmax(axis=1))\n",
    "\n",
    "    print(\"Training ke-\", iteration)\n",
    "    print(classification_report(y_test.argmax(axis=1), y_pred.argmax(axis=1)))\n",
    "    print(\"======================================================\")\n",
    "\n",
    "    accuracies.append(accuracy)\n",
    "\n",
    "average_accuracy = np.mean(accuracies)\n",
    "\n",
    "print()\n",
    "print()\n",
    "print()\n",
    "print(\"Rata-rata Accuracy: \", average_accuracy)"
   ]
  },
  {
   "cell_type": "markdown",
   "id": "7f0feb2f-d396-46b5-bd17-ff6057712f2e",
   "metadata": {},
   "source": [
    "# Visualization & Evalution"
   ]
  },
  {
   "cell_type": "code",
   "execution_count": 13,
   "id": "a3c886f0-d741-4631-bd8f-41e0b1903d9c",
   "metadata": {},
   "outputs": [
    {
     "data": {
      "image/png": "[encoded data removed]",
      "text/plain": [
       "<Figure size 1200x600 with 2 Axes>"
      ]
     },
     "metadata": {},
     "output_type": "display_data"
    }
   ],
   "source": [
    "plt.style.use('ggplot')\n",
    "\n",
    "def plot_history(history):\n",
    "    acc = history.history['accuracy']\n",
    "    val_acc = history.history['val_accuracy']\n",
    "    loss = history.history['loss']\n",
    "    val_loss = history.history['val_loss']\n",
    "    x = range(1, len(acc) + 1)\n",
    "\n",
    "    plt.figure(figsize=(12, 6))\n",
    "    plt.subplot(1, 2, 1)\n",
    "    plt.plot(x, acc, 'b-', label='Training acc')\n",
    "    plt.plot(x, val_acc, 'r-', label='Validation acc')\n",
    "    plt.title('Training and Validation Accuracy')\n",
    "    plt.xlabel('Epochs')\n",
    "    plt.ylabel('Accuracy')\n",
    "    plt.legend()\n",
    "    plt.grid(True)\n",
    "\n",
    "    plt.subplot(1, 2, 2)\n",
    "    plt.plot(x, loss, 'b-', label='Training loss')\n",
    "    plt.plot(x, val_loss, 'r-', label='Validation loss')\n",
    "    plt.title('Training and Validation Loss')\n",
    "    plt.xlabel('Epochs')\n",
    "    plt.ylabel('Loss')\n",
    "    plt.legend()\n",
    "    plt.grid(True)\n",
    "\n",
    "plot_history(history)\n",
    "plt.show()"
   ]
  },
  {
   "cell_type": "code",
   "execution_count": 14,
   "id": "8faa7e6b-6dc4-4f88-af32-158cf5c424da",
   "metadata": {},
   "outputs": [
    {
     "name": "stderr",
     "output_type": "stream",
     "text": [
      "C:\\Users\\Reza Fakhrurrozi\\AppData\\Local\\Programs\\Python\\Python311\\Lib\\site-packages\\keras\\src\\engine\\training.py:3103: UserWarning: You are saving your model as an HDF5 file via `model.save()`. This file format is considered legacy. We recommend using instead the native Keras format, e.g. `model.save('my_model.keras')`.\n",
      "  saving_api.save_model(\n"
     ]
    },
    {
     "name": "stdout",
     "output_type": "stream",
     "text": [
      "Model has created!\n"
     ]
    }
   ],
   "source": [
    "# Save the model\n",
    "\n",
    "model.save('model.h5')\n",
    "print(\"Model has created!\")"
   ]
  },
  {
   "cell_type": "code",
   "execution_count": 15,
   "id": "b8724c3f-01fc-43a5-8aee-8c1887093b37",
   "metadata": {},
   "outputs": [
    {
     "name": "stdout",
     "output_type": "stream",
     "text": [
      "1/1 [==============================] - 1s 920ms/step\n",
      "Text: rasa bersyukur  cukup \n",
      "Sentiment: negative\n"
     ]
    }
   ],
   "source": [
    "input_text = \"\"\"Rasa bersyukur, cukup.\"\"\"\n",
    "\n",
    "def cleansing(sent):\n",
    "    string = sent.lower()\n",
    "    string = re.sub(r'[^a-zA-Z0-9]', ' ', string)\n",
    "    return string\n",
    "\n",
    "sentiment = ['negative', 'neutral', 'positive']\n",
    "\n",
    "text = [cleansing(input_text)]\n",
    "predicted = tokenizer.texts_to_sequences(text)\n",
    "guess = pad_sequences(predicted, maxlen=X.shape[1])\n",
    "\n",
    "model = load_model('C:/Users/Reza Fakhrurrozi/Documents/GitHub/PlatinumChallange-Group2-/LSTM/model.h5')\n",
    "prediction = model.predict(guess)\n",
    "polarity = np.argmax(prediction[0])\n",
    "hasil = sentiment[polarity]\n",
    "\n",
    "print(\"Text: %s\" % text[0])\n",
    "print(\"Sentiment: %s\" % sentiment[polarity])"
   ]
  },
  {
   "cell_type": "code",
   "execution_count": null,
   "id": "e721fbb1-f171-4c2a-8df2-e27434fe75d2",
   "metadata": {},
   "outputs": [],
   "source": [
    "input_text = \"\"\"Makanannya busuk\"\"\"\n",
    "\n",
    "def cleansing(sent):\n",
    "    string = sent.lower()\n",
    "    string = re.sub(r'[^a-zA-Z0-9]', ' ', string)\n",
    "    return string\n",
    "\n",
    "sentiment = ['negative', 'neutral', 'positive']\n",
    "\n",
    "text = [cleansing(input_text)]\n",
    "predicted = tokenizer.texts_to_sequences(text)\n",
    "guess = pad_sequences(predicted, maxlen=X.shape[1])\n",
    "\n",
    "model = load_model('C:/Users/Reza Fakhrurrozi/Documents/GitHub/PlatinumChallange-Group2-/LSTM/model.h5')\n",
    "prediction = model.predict(guess)\n",
    "polarity = np.argmax(prediction[0])\n",
    "hasil = sentiment[polarity]\n",
    "\n",
    "print(\"Text: %s\" % text[0])\n",
    "print(\"Sentiment: %s\" % sentiment[polarity])"
   ]
  }
 ],
 "metadata": {
  "kernelspec": {
   "display_name": "Python 3 (ipykernel)",
   "language": "python",
   "name": "python3"
  },
  "language_info": {
   "codemirror_mode": {
    "name": "ipython",
    "version": 3
   },
   "file_extension": ".py",
   "mimetype": "text/x-python",
   "name": "python",
   "nbconvert_exporter": "python",
   "pygments_lexer": "ipython3",
   "version": "3.11.5"
  }
 },
 "nbformat": 4,
 "nbformat_minor": 5
}
